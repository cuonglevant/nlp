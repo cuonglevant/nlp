{
  "cells": [
    {
      "cell_type": "markdown",
      "id": "013d1c3c",
      "metadata": {
        "id": "013d1c3c"
      },
      "source": [
        "# Fine-tune GPT-2 Vietnamese on Custom Dataset\n",
        "\n",
        "This notebook demonstrates how to fine-tune the `NlpHUST/gpt2-vietnamese` model on a small sample of the `VTSNLP/vietnamese_curated_dataset`, save the model and tokenizer, and test the fine-tuned model."
      ]
    },
    {
      "cell_type": "code",
      "source": [
        "import os\n",
        "os.environ[\"PYTORCH_CUDA_ALLOC_CONF\"] = \"expandable_segments:True\""
      ],
      "metadata": {
        "id": "iZ0RV-zGELVP"
      },
      "id": "iZ0RV-zGELVP",
      "execution_count": null,
      "outputs": []
    },
    {
      "cell_type": "code",
      "execution_count": null,
      "id": "93534fe8",
      "metadata": {
        "colab": {
          "base_uri": "https://localhost:8080/"
        },
        "id": "93534fe8",
        "outputId": "e279582f-2cb6-49ee-eca6-2a42fa457b36"
      },
      "outputs": [
        {
          "output_type": "stream",
          "name": "stdout",
          "text": [
            "Mounted at /content/drive\n"
          ]
        }
      ],
      "source": [
        "from google.colab import drive\n",
        "drive.mount('/content/drive')"
      ]
    },
    {
      "cell_type": "code",
      "execution_count": null,
      "id": "yH6dyUkTqme3",
      "metadata": {
        "colab": {
          "base_uri": "https://localhost:8080/"
        },
        "id": "yH6dyUkTqme3",
        "outputId": "8ef658b1-e054-4170-d09d-a1e197f5798c"
      },
      "outputs": [
        {
          "output_type": "stream",
          "name": "stdout",
          "text": [
            "Requirement already satisfied: transformers in /usr/local/lib/python3.11/dist-packages (4.51.3)\n",
            "Requirement already satisfied: filelock in /usr/local/lib/python3.11/dist-packages (from transformers) (3.18.0)\n",
            "Requirement already satisfied: huggingface-hub<1.0,>=0.30.0 in /usr/local/lib/python3.11/dist-packages (from transformers) (0.31.2)\n",
            "Requirement already satisfied: numpy>=1.17 in /usr/local/lib/python3.11/dist-packages (from transformers) (2.0.2)\n",
            "Requirement already satisfied: packaging>=20.0 in /usr/local/lib/python3.11/dist-packages (from transformers) (24.2)\n",
            "Requirement already satisfied: pyyaml>=5.1 in /usr/local/lib/python3.11/dist-packages (from transformers) (6.0.2)\n",
            "Requirement already satisfied: regex!=2019.12.17 in /usr/local/lib/python3.11/dist-packages (from transformers) (2024.11.6)\n",
            "Requirement already satisfied: requests in /usr/local/lib/python3.11/dist-packages (from transformers) (2.32.3)\n",
            "Requirement already satisfied: tokenizers<0.22,>=0.21 in /usr/local/lib/python3.11/dist-packages (from transformers) (0.21.1)\n",
            "Requirement already satisfied: safetensors>=0.4.3 in /usr/local/lib/python3.11/dist-packages (from transformers) (0.5.3)\n",
            "Requirement already satisfied: tqdm>=4.27 in /usr/local/lib/python3.11/dist-packages (from transformers) (4.67.1)\n",
            "Requirement already satisfied: fsspec>=2023.5.0 in /usr/local/lib/python3.11/dist-packages (from huggingface-hub<1.0,>=0.30.0->transformers) (2025.3.2)\n",
            "Requirement already satisfied: typing-extensions>=3.7.4.3 in /usr/local/lib/python3.11/dist-packages (from huggingface-hub<1.0,>=0.30.0->transformers) (4.13.2)\n",
            "Requirement already satisfied: charset-normalizer<4,>=2 in /usr/local/lib/python3.11/dist-packages (from requests->transformers) (3.4.2)\n",
            "Requirement already satisfied: idna<4,>=2.5 in /usr/local/lib/python3.11/dist-packages (from requests->transformers) (3.10)\n",
            "Requirement already satisfied: urllib3<3,>=1.21.1 in /usr/local/lib/python3.11/dist-packages (from requests->transformers) (2.4.0)\n",
            "Requirement already satisfied: certifi>=2017.4.17 in /usr/local/lib/python3.11/dist-packages (from requests->transformers) (2025.4.26)\n",
            "Requirement already satisfied: datasets in /usr/local/lib/python3.11/dist-packages (2.14.4)\n",
            "Collecting datasets\n",
            "  Downloading datasets-3.6.0-py3-none-any.whl.metadata (19 kB)\n",
            "Requirement already satisfied: filelock in /usr/local/lib/python3.11/dist-packages (from datasets) (3.18.0)\n",
            "Requirement already satisfied: numpy>=1.17 in /usr/local/lib/python3.11/dist-packages (from datasets) (2.0.2)\n",
            "Requirement already satisfied: pyarrow>=15.0.0 in /usr/local/lib/python3.11/dist-packages (from datasets) (18.1.0)\n",
            "Requirement already satisfied: dill<0.3.9,>=0.3.0 in /usr/local/lib/python3.11/dist-packages (from datasets) (0.3.7)\n",
            "Requirement already satisfied: pandas in /usr/local/lib/python3.11/dist-packages (from datasets) (2.2.2)\n",
            "Requirement already satisfied: requests>=2.32.2 in /usr/local/lib/python3.11/dist-packages (from datasets) (2.32.3)\n",
            "Requirement already satisfied: tqdm>=4.66.3 in /usr/local/lib/python3.11/dist-packages (from datasets) (4.67.1)\n",
            "Requirement already satisfied: xxhash in /usr/local/lib/python3.11/dist-packages (from datasets) (3.5.0)\n",
            "Requirement already satisfied: multiprocess<0.70.17 in /usr/local/lib/python3.11/dist-packages (from datasets) (0.70.15)\n",
            "Collecting fsspec<=2025.3.0,>=2023.1.0 (from fsspec[http]<=2025.3.0,>=2023.1.0->datasets)\n",
            "  Downloading fsspec-2025.3.0-py3-none-any.whl.metadata (11 kB)\n",
            "Requirement already satisfied: huggingface-hub>=0.24.0 in /usr/local/lib/python3.11/dist-packages (from datasets) (0.31.2)\n",
            "Requirement already satisfied: packaging in /usr/local/lib/python3.11/dist-packages (from datasets) (24.2)\n",
            "Requirement already satisfied: pyyaml>=5.1 in /usr/local/lib/python3.11/dist-packages (from datasets) (6.0.2)\n",
            "Requirement already satisfied: aiohttp!=4.0.0a0,!=4.0.0a1 in /usr/local/lib/python3.11/dist-packages (from fsspec[http]<=2025.3.0,>=2023.1.0->datasets) (3.11.15)\n",
            "Requirement already satisfied: typing-extensions>=3.7.4.3 in /usr/local/lib/python3.11/dist-packages (from huggingface-hub>=0.24.0->datasets) (4.13.2)\n",
            "Requirement already satisfied: charset-normalizer<4,>=2 in /usr/local/lib/python3.11/dist-packages (from requests>=2.32.2->datasets) (3.4.2)\n",
            "Requirement already satisfied: idna<4,>=2.5 in /usr/local/lib/python3.11/dist-packages (from requests>=2.32.2->datasets) (3.10)\n",
            "Requirement already satisfied: urllib3<3,>=1.21.1 in /usr/local/lib/python3.11/dist-packages (from requests>=2.32.2->datasets) (2.4.0)\n",
            "Requirement already satisfied: certifi>=2017.4.17 in /usr/local/lib/python3.11/dist-packages (from requests>=2.32.2->datasets) (2025.4.26)\n",
            "Requirement already satisfied: python-dateutil>=2.8.2 in /usr/local/lib/python3.11/dist-packages (from pandas->datasets) (2.9.0.post0)\n",
            "Requirement already satisfied: pytz>=2020.1 in /usr/local/lib/python3.11/dist-packages (from pandas->datasets) (2025.2)\n",
            "Requirement already satisfied: tzdata>=2022.7 in /usr/local/lib/python3.11/dist-packages (from pandas->datasets) (2025.2)\n",
            "Requirement already satisfied: aiohappyeyeballs>=2.3.0 in /usr/local/lib/python3.11/dist-packages (from aiohttp!=4.0.0a0,!=4.0.0a1->fsspec[http]<=2025.3.0,>=2023.1.0->datasets) (2.6.1)\n",
            "Requirement already satisfied: aiosignal>=1.1.2 in /usr/local/lib/python3.11/dist-packages (from aiohttp!=4.0.0a0,!=4.0.0a1->fsspec[http]<=2025.3.0,>=2023.1.0->datasets) (1.3.2)\n",
            "Requirement already satisfied: attrs>=17.3.0 in /usr/local/lib/python3.11/dist-packages (from aiohttp!=4.0.0a0,!=4.0.0a1->fsspec[http]<=2025.3.0,>=2023.1.0->datasets) (25.3.0)\n",
            "Requirement already satisfied: frozenlist>=1.1.1 in /usr/local/lib/python3.11/dist-packages (from aiohttp!=4.0.0a0,!=4.0.0a1->fsspec[http]<=2025.3.0,>=2023.1.0->datasets) (1.6.0)\n",
            "Requirement already satisfied: multidict<7.0,>=4.5 in /usr/local/lib/python3.11/dist-packages (from aiohttp!=4.0.0a0,!=4.0.0a1->fsspec[http]<=2025.3.0,>=2023.1.0->datasets) (6.4.3)\n",
            "Requirement already satisfied: propcache>=0.2.0 in /usr/local/lib/python3.11/dist-packages (from aiohttp!=4.0.0a0,!=4.0.0a1->fsspec[http]<=2025.3.0,>=2023.1.0->datasets) (0.3.1)\n",
            "Requirement already satisfied: yarl<2.0,>=1.17.0 in /usr/local/lib/python3.11/dist-packages (from aiohttp!=4.0.0a0,!=4.0.0a1->fsspec[http]<=2025.3.0,>=2023.1.0->datasets) (1.20.0)\n",
            "Requirement already satisfied: six>=1.5 in /usr/local/lib/python3.11/dist-packages (from python-dateutil>=2.8.2->pandas->datasets) (1.17.0)\n",
            "Downloading datasets-3.6.0-py3-none-any.whl (491 kB)\n",
            "\u001b[2K   \u001b[90m━━━━━━━━━━━━━━━━━━━━━━━━━━━━━━━━━━━━━━━━\u001b[0m \u001b[32m491.5/491.5 kB\u001b[0m \u001b[31m10.6 MB/s\u001b[0m eta \u001b[36m0:00:00\u001b[0m\n",
            "\u001b[?25hDownloading fsspec-2025.3.0-py3-none-any.whl (193 kB)\n",
            "\u001b[2K   \u001b[90m━━━━━━━━━━━━━━━━━━━━━━━━━━━━━━━━━━━━━━━━\u001b[0m \u001b[32m193.6/193.6 kB\u001b[0m \u001b[31m19.6 MB/s\u001b[0m eta \u001b[36m0:00:00\u001b[0m\n",
            "\u001b[?25hInstalling collected packages: fsspec, datasets\n",
            "  Attempting uninstall: fsspec\n",
            "    Found existing installation: fsspec 2025.3.2\n",
            "    Uninstalling fsspec-2025.3.2:\n",
            "      Successfully uninstalled fsspec-2025.3.2\n",
            "  Attempting uninstall: datasets\n",
            "    Found existing installation: datasets 2.14.4\n",
            "    Uninstalling datasets-2.14.4:\n",
            "      Successfully uninstalled datasets-2.14.4\n",
            "\u001b[31mERROR: pip's dependency resolver does not currently take into account all the packages that are installed. This behaviour is the source of the following dependency conflicts.\n",
            "gcsfs 2025.3.2 requires fsspec==2025.3.2, but you have fsspec 2025.3.0 which is incompatible.\n",
            "torch 2.6.0+cu124 requires nvidia-cublas-cu12==12.4.5.8; platform_system == \"Linux\" and platform_machine == \"x86_64\", but you have nvidia-cublas-cu12 12.5.3.2 which is incompatible.\n",
            "torch 2.6.0+cu124 requires nvidia-cuda-cupti-cu12==12.4.127; platform_system == \"Linux\" and platform_machine == \"x86_64\", but you have nvidia-cuda-cupti-cu12 12.5.82 which is incompatible.\n",
            "torch 2.6.0+cu124 requires nvidia-cuda-nvrtc-cu12==12.4.127; platform_system == \"Linux\" and platform_machine == \"x86_64\", but you have nvidia-cuda-nvrtc-cu12 12.5.82 which is incompatible.\n",
            "torch 2.6.0+cu124 requires nvidia-cuda-runtime-cu12==12.4.127; platform_system == \"Linux\" and platform_machine == \"x86_64\", but you have nvidia-cuda-runtime-cu12 12.5.82 which is incompatible.\n",
            "torch 2.6.0+cu124 requires nvidia-cudnn-cu12==9.1.0.70; platform_system == \"Linux\" and platform_machine == \"x86_64\", but you have nvidia-cudnn-cu12 9.3.0.75 which is incompatible.\n",
            "torch 2.6.0+cu124 requires nvidia-cufft-cu12==11.2.1.3; platform_system == \"Linux\" and platform_machine == \"x86_64\", but you have nvidia-cufft-cu12 11.2.3.61 which is incompatible.\n",
            "torch 2.6.0+cu124 requires nvidia-curand-cu12==10.3.5.147; platform_system == \"Linux\" and platform_machine == \"x86_64\", but you have nvidia-curand-cu12 10.3.6.82 which is incompatible.\n",
            "torch 2.6.0+cu124 requires nvidia-cusolver-cu12==11.6.1.9; platform_system == \"Linux\" and platform_machine == \"x86_64\", but you have nvidia-cusolver-cu12 11.6.3.83 which is incompatible.\n",
            "torch 2.6.0+cu124 requires nvidia-cusparse-cu12==12.3.1.170; platform_system == \"Linux\" and platform_machine == \"x86_64\", but you have nvidia-cusparse-cu12 12.5.1.3 which is incompatible.\n",
            "torch 2.6.0+cu124 requires nvidia-nvjitlink-cu12==12.4.127; platform_system == \"Linux\" and platform_machine == \"x86_64\", but you have nvidia-nvjitlink-cu12 12.5.82 which is incompatible.\u001b[0m\u001b[31m\n",
            "\u001b[0mSuccessfully installed datasets-3.6.0 fsspec-2025.3.0\n",
            "Found existing installation: transformers 4.51.3\n",
            "Uninstalling transformers-4.51.3:\n",
            "  Successfully uninstalled transformers-4.51.3\n",
            "Collecting transformers==4.51.3\n",
            "  Downloading transformers-4.51.3-py3-none-any.whl.metadata (38 kB)\n",
            "Requirement already satisfied: filelock in /usr/local/lib/python3.11/dist-packages (from transformers==4.51.3) (3.18.0)\n",
            "Requirement already satisfied: huggingface-hub<1.0,>=0.30.0 in /usr/local/lib/python3.11/dist-packages (from transformers==4.51.3) (0.31.2)\n",
            "Requirement already satisfied: numpy>=1.17 in /usr/local/lib/python3.11/dist-packages (from transformers==4.51.3) (2.0.2)\n",
            "Requirement already satisfied: packaging>=20.0 in /usr/local/lib/python3.11/dist-packages (from transformers==4.51.3) (24.2)\n",
            "Requirement already satisfied: pyyaml>=5.1 in /usr/local/lib/python3.11/dist-packages (from transformers==4.51.3) (6.0.2)\n",
            "Requirement already satisfied: regex!=2019.12.17 in /usr/local/lib/python3.11/dist-packages (from transformers==4.51.3) (2024.11.6)\n",
            "Requirement already satisfied: requests in /usr/local/lib/python3.11/dist-packages (from transformers==4.51.3) (2.32.3)\n",
            "Requirement already satisfied: tokenizers<0.22,>=0.21 in /usr/local/lib/python3.11/dist-packages (from transformers==4.51.3) (0.21.1)\n",
            "Requirement already satisfied: safetensors>=0.4.3 in /usr/local/lib/python3.11/dist-packages (from transformers==4.51.3) (0.5.3)\n",
            "Requirement already satisfied: tqdm>=4.27 in /usr/local/lib/python3.11/dist-packages (from transformers==4.51.3) (4.67.1)\n",
            "Requirement already satisfied: fsspec>=2023.5.0 in /usr/local/lib/python3.11/dist-packages (from huggingface-hub<1.0,>=0.30.0->transformers==4.51.3) (2025.3.0)\n",
            "Requirement already satisfied: typing-extensions>=3.7.4.3 in /usr/local/lib/python3.11/dist-packages (from huggingface-hub<1.0,>=0.30.0->transformers==4.51.3) (4.13.2)\n",
            "Requirement already satisfied: charset-normalizer<4,>=2 in /usr/local/lib/python3.11/dist-packages (from requests->transformers==4.51.3) (3.4.2)\n",
            "Requirement already satisfied: idna<4,>=2.5 in /usr/local/lib/python3.11/dist-packages (from requests->transformers==4.51.3) (3.10)\n",
            "Requirement already satisfied: urllib3<3,>=1.21.1 in /usr/local/lib/python3.11/dist-packages (from requests->transformers==4.51.3) (2.4.0)\n",
            "Requirement already satisfied: certifi>=2017.4.17 in /usr/local/lib/python3.11/dist-packages (from requests->transformers==4.51.3) (2025.4.26)\n",
            "Downloading transformers-4.51.3-py3-none-any.whl (10.4 MB)\n",
            "\u001b[2K   \u001b[90m━━━━━━━━━━━━━━━━━━━━━━━━━━━━━━━━━━━━━━━━\u001b[0m \u001b[32m10.4/10.4 MB\u001b[0m \u001b[31m83.0 MB/s\u001b[0m eta \u001b[36m0:00:00\u001b[0m\n",
            "\u001b[?25hInstalling collected packages: transformers\n",
            "Successfully installed transformers-4.51.3\n"
          ]
        }
      ],
      "source": [
        "!pip install transformers\n",
        "!pip install --upgrade datasets\n",
        "!pip uninstall transformers -y\n",
        "!pip install transformers==4.51.3\n",
        "from transformers import TrainingArguments"
      ]
    },
    {
      "cell_type": "code",
      "execution_count": null,
      "id": "ToCd3lpCy4Qm",
      "metadata": {
        "id": "ToCd3lpCy4Qm"
      },
      "outputs": [],
      "source": [
        "from transformers import GPT2TokenizerFast, GPT2LMHeadModel, DataCollatorForLanguageModeling, Trainer, TrainingArguments\n",
        "import os"
      ]
    },
    {
      "cell_type": "code",
      "execution_count": null,
      "id": "v9ZkiDghrBJh",
      "metadata": {
        "id": "v9ZkiDghrBJh"
      },
      "outputs": [],
      "source": [
        "from datasets import load_dataset"
      ]
    },
    {
      "cell_type": "code",
      "execution_count": null,
      "id": "d46a7231",
      "metadata": {
        "colab": {
          "base_uri": "https://localhost:8080/",
          "height": 81,
          "referenced_widgets": [
            "08554fa0ccc048e09d764748afc4f65a",
            "b457e410901c4bc7ad3a32467c36e391",
            "95e8a617d4284400a6020f563f2ce3b7",
            "10f32c6044624322a5e1bef5f958fbbb",
            "070fe2c29dd744b1917aee357f576739",
            "6e56b757bc3c40a9b40a463e0e217f1b",
            "9c637406c78248c5a68f5996424d7a46",
            "9682783b55aa4672859c125eb8f38654",
            "113bcf62ae604015b3d8c52b2d10b5e7",
            "da19052aa6034f6cbaa90b57c6ce1006",
            "22a656fbcab74f95aeeaef8415954ac8",
            "abaeefb97a554b59a2a906ae9c4fd970",
            "19ec88c862ed4cb2a98ee57d4a94d360",
            "30b8c470643c4b349815d3c0e890b44c",
            "947d2bd8aad941f4acc0eb7d509c3e75",
            "2a9d49c0ad694c249fdde69ba8f73d5f",
            "e5f5c35bf7f94e2bbd43ce82838a87f5",
            "818d01cf654b49ffa658832b1208fb55",
            "a9068aec9dda49fb823680878e93411b",
            "3bf2ea13a9004e35a8f877160a2047c8",
            "4ccd272f3de6495c9d2e20ad74f4a2fb",
            "90c5a03f51eb4b3bb8b6e75af8f25a72"
          ]
        },
        "id": "d46a7231",
        "outputId": "3e1abb61-82cf-4f22-928d-874e16332c60"
      },
      "outputs": [
        {
          "output_type": "display_data",
          "data": {
            "text/plain": [
              "Resolving data files:   0%|          | 0/132 [00:00<?, ?it/s]"
            ],
            "application/vnd.jupyter.widget-view+json": {
              "version_major": 2,
              "version_minor": 0,
              "model_id": "08554fa0ccc048e09d764748afc4f65a"
            }
          },
          "metadata": {}
        },
        {
          "output_type": "display_data",
          "data": {
            "text/plain": [
              "Resolving data files:   0%|          | 0/132 [00:00<?, ?it/s]"
            ],
            "application/vnd.jupyter.widget-view+json": {
              "version_major": 2,
              "version_minor": 0,
              "model_id": "abaeefb97a554b59a2a906ae9c4fd970"
            }
          },
          "metadata": {}
        }
      ],
      "source": [
        "MODEL_NAME = \"NlpHUST/gpt2-vietnamese\"\n",
        "DATASET_NAME = \"VTSNLP/vietnamese_curated_dataset\"\n",
        "OUTPUT_TEMP_DIR = \"/content/temp/checkpoint\"\n",
        "OUTPUT_DIR = \"/content/drive/MyDrive/model/GPT-2-124m\"\n",
        "\n",
        "# Load dataset in streaming mode\n",
        "dataset = load_dataset(DATASET_NAME, streaming=True)"
      ]
    },
    {
      "cell_type": "code",
      "execution_count": null,
      "id": "c9d3b51c",
      "metadata": {
        "id": "c9d3b51c"
      },
      "outputs": [],
      "source": [
        "NUM_SAMPLES = int(20000) # Taking a small fixed number of samples, adjust as needed\n",
        "\n",
        "if \"train\" in dataset:\n",
        "    # For IterableDataset, we use take() to get a fixed number of samples\n",
        "    train_dataset = dataset[\"train\"].take(NUM_SAMPLES).shuffle(seed=42)\n",
        "else:\n",
        "    # If no \"train\" split, apply to the main dataset (assuming it's also iterable)\n",
        "    train_dataset = dataset.take(NUM_SAMPLES).shuffle(seed=42)"
      ]
    },
    {
      "cell_type": "code",
      "execution_count": null,
      "id": "ThaEet1ozf6N",
      "metadata": {
        "colab": {
          "base_uri": "https://localhost:8080/"
        },
        "id": "ThaEet1ozf6N",
        "outputId": "3d4b1c5a-e47a-4d41-dcdf-9caaa36fa1b1"
      },
      "outputs": [
        {
          "output_type": "stream",
          "name": "stdout",
          "text": [
            "No 'validation' split found. Creating train/eval split from the main dataset (assuming 'train' exists).\n",
            "Created train dataset with 20000 samples and eval dataset with 2000 samples.\n"
          ]
        }
      ],
      "source": [
        "if \"validation\" in dataset:\n",
        "    NUM_EVAL_SAMPLES = max(1, int(NUM_SAMPLES * 0.1)) # Take 10% of train samples for eval, minimum 1\n",
        "    eval_dataset = dataset[\"validation\"].take(NUM_EVAL_SAMPLES).shuffle(seed=42)\n",
        "else:\n",
        "    print(\"No 'validation' split found. Creating train/eval split from the main dataset (assuming 'train' exists).\")\n",
        "    # We need to take samples from an existing split to create new train/eval splits\n",
        "    # Let's assume 'train' split exists and use it.\n",
        "    if \"train\" in dataset:\n",
        "        source_dataset = dataset[\"train\"]\n",
        "        TOTAL_SAMPLES_FOR_SPLIT = int(NUM_SAMPLES * 1.1) # Take slightly more samples to split\n",
        "        # Take samples from the source dataset split. Convert to list to split.\n",
        "        # Note: This consumes the iterator up to TOTAL_SAMPLES_FOR_SPLIT\n",
        "        all_samples = list(source_dataset.take(TOTAL_SAMPLES_FOR_SPLIT).shuffle(seed=42))\n",
        "\n",
        "        # Now split the list\n",
        "        split_index = int(NUM_SAMPLES * 0.1) # 10% for eval\n",
        "        # Ensure the split index is within the bounds of collected samples\n",
        "        split_index = min(split_index, len(all_samples))\n",
        "\n",
        "        eval_dataset_list = all_samples[:split_index]\n",
        "        train_dataset_list = all_samples[split_index:]\n",
        "\n",
        "        from datasets import Dataset\n",
        "        train_dataset = Dataset.from_list(train_dataset_list)\n",
        "        eval_dataset = Dataset.from_list(eval_dataset_list)\n",
        "\n",
        "        print(f\"Created train dataset with {len(train_dataset)} samples and eval dataset with {len(eval_dataset)} samples.\")\n",
        "    else:\n",
        "        print(\"Error: No 'train' or 'validation' split found in the dataset.\")\n",
        "        # You might want to raise an error or handle this case appropriately\n",
        "        # For now, we'll just print an error message.\n",
        "        train_dataset = None\n",
        "        eval_dataset = None"
      ]
    },
    {
      "cell_type": "code",
      "execution_count": null,
      "id": "hDJKdFbWzkky",
      "metadata": {
        "id": "hDJKdFbWzkky"
      },
      "outputs": [],
      "source": [
        "tokenizer = GPT2TokenizerFast.from_pretrained(MODEL_NAME)\n",
        "model = GPT2LMHeadModel.from_pretrained(MODEL_NAME)\n",
        "\n",
        "# Ensure we have a pad token\n",
        "if tokenizer.pad_token is None:\n",
        "    tokenizer.add_special_tokens({'pad_token': '[PAD]'})\n",
        "    model.resize_token_embeddings(len(tokenizer))\n"
      ]
    },
    {
      "cell_type": "code",
      "execution_count": null,
      "id": "mkhwHa5czn27",
      "metadata": {
        "colab": {
          "base_uri": "https://localhost:8080/",
          "height": 81,
          "referenced_widgets": [
            "d968d0c151624cd6943b3c8e513a08ba",
            "2be994185dea40e796a1ff9021130eac",
            "af2401659ed94d66ab47bb04a56bab5c",
            "09ff1a18942043d09771b5e4e1b7365f",
            "9cc694e8141544aeb5e0275ab5912f96",
            "46e4b25ba18b45e69049210be46283cf",
            "e605d212128d484e9aac5552dd41cf7f",
            "73d78331fc0443b194a24fa19c853c28",
            "e251090bddec40dab2d4a80ffcb7579e",
            "2d3a751bc756498e80f35a6ad962d359",
            "ad5b0dd2b5a24360ab9a49f046ca036c",
            "10f5afdfba49450997981268885d8292",
            "c2cfd30e64e8452bab40d7ad4e85984b",
            "c6b50132c89844ceb294e6e495736563",
            "c34aff4ae06d46768603b13787a91962",
            "7d6750c25e424e6e893ee2a94dabe6fb",
            "a2105bf060344340b51f690ca722b95c",
            "826bacfb93ac46cea503fa15c95cf71e",
            "76d73ab0984843a68373ad7206cc5fd7",
            "6ebd59422e9f486ebe242b229470fae9",
            "d824b87fd79448c28b27a1e5c135a125",
            "37d5fe1824c5421da57687f17d2713bb"
          ]
        },
        "id": "mkhwHa5czn27",
        "outputId": "8c7301d3-14dc-4cd9-89f2-2d5e3a6b064b"
      },
      "outputs": [
        {
          "output_type": "display_data",
          "data": {
            "text/plain": [
              "Map:   0%|          | 0/20000 [00:00<?, ? examples/s]"
            ],
            "application/vnd.jupyter.widget-view+json": {
              "version_major": 2,
              "version_minor": 0,
              "model_id": "d968d0c151624cd6943b3c8e513a08ba"
            }
          },
          "metadata": {}
        },
        {
          "output_type": "display_data",
          "data": {
            "text/plain": [
              "Map:   0%|          | 0/2000 [00:00<?, ? examples/s]"
            ],
            "application/vnd.jupyter.widget-view+json": {
              "version_major": 2,
              "version_minor": 0,
              "model_id": "10f5afdfba49450997981268885d8292"
            }
          },
          "metadata": {}
        }
      ],
      "source": [
        "def tokenize_function(examples):\n",
        "    return tokenizer(examples[\"text\"], truncation=True, max_length=512, padding=\"max_length\")\n",
        "\n",
        "train_dataset = train_dataset.map(tokenize_function, batched=True, remove_columns=[c for c in train_dataset.column_names if c != \"text\"])\n",
        "eval_dataset  = eval_dataset.map(tokenize_function, batched=True, remove_columns=[c for c in eval_dataset.column_names  if c != \"text\"])"
      ]
    },
    {
      "cell_type": "code",
      "source": [
        "def print_trainable_parameters(model):\n",
        "    \"\"\"Prints the number and percentage of trainable parameters in the model.\"\"\"\n",
        "    trainable_params = sum(p.numel() for p in model.parameters() if p.requires_grad)\n",
        "    all_param = sum(p.numel() for p in model.parameters())\n",
        "    non_trainable_params = all_param - trainable_params\n",
        "    print(f\"trainable params: {trainable_params:,} || non-trainable params: {non_trainable_params:,} || total params: {all_param:,}\")\n",
        "    if all_param > 0:\n",
        "        print(f\"percentage of trainable parameters: {100 * trainable_params / all_param:.2f}%\")\n",
        "    else:\n",
        "        print(\"Model has no parameters.\")\n",
        "\n",
        "print_trainable_parameters(model)\n"
      ],
      "metadata": {
        "colab": {
          "base_uri": "https://localhost:8080/"
        },
        "id": "QUqaMhzIzyMD",
        "outputId": "6c1dfb30-9c1e-4a2e-8bd5-cd7df18fe2e3"
      },
      "id": "QUqaMhzIzyMD",
      "execution_count": null,
      "outputs": [
        {
          "output_type": "stream",
          "name": "stdout",
          "text": [
            "trainable params: 124,441,344 || non-trainable params: 0 || total params: 124,441,344\n",
            "percentage of trainable parameters: 100.00%\n"
          ]
        }
      ]
    },
    {
      "cell_type": "code",
      "source": [
        "def count_total_tokens(dataset, input_key=\"input_ids\"):\n",
        "    \"\"\"Count the total number of tokens in a HuggingFace dataset.\"\"\"\n",
        "    if dataset is None:\n",
        "        print(\"Dataset is None.\")\n",
        "        return 0\n",
        "    total_tokens = 0\n",
        "    for i in range(len(dataset)):\n",
        "        item = dataset[i]\n",
        "        if input_key in item:\n",
        "            total_tokens += len(item[input_key])\n",
        "        else:\n",
        "            print(f\"Warning: '{input_key}' not found in item {i}.\")\n",
        "    print(f\"Total tokens in dataset: {total_tokens}\")\n",
        "    return total_tokens\n",
        "\n",
        "# Count tokens in train and eval datasets\n",
        "count_total_tokens(train_dataset)\n",
        "count_total_tokens(eval_dataset)"
      ],
      "metadata": {
        "colab": {
          "base_uri": "https://localhost:8080/"
        },
        "id": "PAZ-RYz8SW4n",
        "outputId": "c25d83a0-56f4-431e-871b-cfe3348d5b70"
      },
      "id": "PAZ-RYz8SW4n",
      "execution_count": null,
      "outputs": [
        {
          "output_type": "stream",
          "name": "stdout",
          "text": [
            "Total tokens in dataset: 10240000\n",
            "Total tokens in dataset: 1024000\n"
          ]
        },
        {
          "output_type": "execute_result",
          "data": {
            "text/plain": [
              "1024000"
            ]
          },
          "metadata": {},
          "execution_count": 26
        }
      ]
    },
    {
      "cell_type": "code",
      "source": [
        "def inspect_tokenized_dataset(dataset, name=\"dataset\"):\n",
        "    print(f\"--- {name} ---\")\n",
        "    if dataset is None:\n",
        "        print(\"Dataset is None.\")\n",
        "        return\n",
        "    # Show available columns\n",
        "    print(\"Columns:\", dataset.column_names)\n",
        "    # Show number of samples (if possible)\n",
        "    try:\n",
        "        print(\"Number of samples:\", len(dataset))\n",
        "    except Exception as e:\n",
        "        print(\"Could not determine dataset length:\", e)\n",
        "    # Show a sample entry\n",
        "    try:\n",
        "        print(\"Sample entry:\", dataset[0])\n",
        "    except Exception as e:\n",
        "        print(\"Could not display sample entry:\", e)\n",
        "    print()\n",
        "\n",
        "inspect_tokenized_dataset(train_dataset, \"Train Dataset\")\n",
        "inspect_tokenized_dataset(eval_dataset, \"Eval Dataset\")"
      ],
      "metadata": {
        "colab": {
          "base_uri": "https://localhost:8080/"
        },
        "id": "gMYKvtkxSEr7",
        "outputId": "03a84fc0-deef-45c9-9991-113db682f87e"
      },
      "id": "gMYKvtkxSEr7",
      "execution_count": null,
      "outputs": [
        {
          "output_type": "stream",
          "name": "stdout",
          "text": [
            "--- Train Dataset ---\n",
            "Columns: ['text', 'input_ids', 'attention_mask']\n",
            "Number of samples: 20000\n",
            "Sample entry: {'text': 'Tổng Giám đốc PMU Đường sắt trần tình chuyện đã công chức vẫn \\'đóng vai\\'... viên chức\\nNếu diễn biến đúng như những gì dư luận đã đồn đoán, thì chưa đầy 2 tuần nữa, Tổng Giám đốc Ban quản lý dự án (PMU) Đường sắt Lê Kim Thành sẽ chính thức thành Cục trưởng Quản lý Xây dựng & Chất lượng công trình giao thông (QLXD&CLCTGT) - một chiếc ghế đầy quyền lực mà nhiều người mơ ước.\\nTổng Giám đốc Lê Kim Thành nói PMU Đường sắt nhiều đổi thay từ khi ông về đây quản lý\\nÔng Thành sẽ nói lời tạm biệt \"Ban A\" này khi Dự án Đường sắt đô thi trên cao Cát Linh - Hà Đông (Hà Nội) đang dở dang giai đoạn cuối - để tới nơi mới đầy hứa hẹn và triển vọng hơn.\\nNhiều năm không \"ăn\" lương ngân sách\\nTrong một lần trả lời PLVN mới đây, ông Thành tự tin xác nhận, Bộ GTVT đang chuẩn bị làm quy trình để bổ nhiệm ông vào một vị trí khác.\\nTuy nhiên, như đã thông tin, trước đó Bộ GTVT đã ban hành văn bản quy định về tiêu chuẩn đối với chức danh lãnh đạo cấp trưởng tại các đơn vị hành chính thuộc Bộ, thì cần phải hội đủ các điều kiện như: Tốt nghiệp lý luận chính trị cao cấp trở lên; tốt nghiệp quản lý hành chính nhà nước ngạch chuyên viên cao cấp và phải là chuyên viên chính trở lên...\\nTrường hợp của ông Thành đúng như ông này từng thừa nhận là hơi có phần dích dắc về tư cách công chức. \"Tôi đủ điều kiện và đã tham gia thi nâng ngạch chuyên viên lên chuyên viên chính từ năm 2011. Đầu năm 2013, tôi chuyển khỏi PMU1 đến công tác tại Tổng công ty Đầu tư & Phát triển đường cao tốc Việt Nam (VEC) với chức vụ đầu tiên là Phó Giám đốc Ban quản lý dự án thuộc VEC. Lúc đó, mức lương bên PMU1 như nào thì chuyển sang bên này, tôi hưởng như vậy\", ông Thành nói.\\nNhư PLVN đã thông tin, sau hơn 2 năm không có tin tức gì vể kết quả kỳ thi nâng ngạch chuyên viên, ông Thành có lẽ không mấy để ý đến việc mình là viên chức hay công chức? Bởi như ông Thành đã nói công tác ở doanh nghiệp thì không quan tâm nhiều đến yếu tố ngạch bậc như các đơn vị hành chính.\\n\"Công chức là người hưởng 100% lương từ ngân sách nhà nước, còn làm ở doanh nghiệp thì hưởng lương theo quy định của doanh nghiệp và vị trí việc làm\", Tổng Giám đốc PMU Đường sắt tiếp lời.\\nTuy nhiên, đến đầu năm 2014, ông Thành bất ngờ có tin mình đỗ kỳ thi chuyên viên chính. Một thời gian sau, ông lại được tổ chức điều làm Tổng Giám đốc PMU Đường sắt - một đơn vị sự nghiệp thuộc Bộ GTVT, không hưởng lương từ ngân sách, với nguồn thu chính là từ phí quản lý dự án cũng như một số nguồn khác.\\n\"Điều này khiến tôi dù đã là chuyên viên chính (công chức loại B - PV) từ đầu năm 2013, nhưng mà nhiều năm này và cho tới bây giờ vẫn \"trong vai\" là viên chức...\", Tổng Giám đốc Lê Kim Thành giải thích.\\nDự án đường sắt Cát Linh - Hà Đông đang dở dang giai đoạn cuối\\nCó \"nợ\" điều kiện?\\nTheo Quyết định 3689/QĐ-BGTVT ngày 15/11/2013 về trình tự, thủ tục bổ nhiệm, bổ nhiệm lại... đối với chức danh lãnh đạo, quản lý các đơn vị thuộc Bộ này, thì trong trường hợp phải điều động nhân sự nơi khác đến để bổ nhiệm, các cơ quan liên quan phải thực hiện các bước sau: \"Tập thể lãnh đạo họp thống nhất chủ trương và thực hiện các công việc như: \"Gặp nhân sự được đề nghị bổ nhiệm để trao đổi ý kiến về yêu cầu nhiệm vụ công tác; cấp trưởng đơn vị lấy ý kiến bằng văn bản của Ban Thường vụ Đảng ủy hoặc cấp ủy Đảng cùng cấp đơn vị về nhân sự được đề nghị tiếp nhận bổ nhiệm; thảo luận, nhận xét, đánh giá và biểu quyết nhân sự bằng phiếu kín...\"\\nVề việc này, PLVN đã liên lạc với ông Trần Xuân Sanh - Cục trưởng Cục QLXD&CLCTGT nhằm nắm thêm thông tin xung quanh công tác chuẩn bị quy trình, thủ tục đối với người dự kiến sẽ kế nhiệm ông trong nay mai, nhưng Cục trưởng Sanh chỉ nói: \"Mình đến tuổi thì về hưu thôi! Có gì đề nghị liên lạc với Vụ Tổ chức cán bộ của Bộ GTVT\".\\nNgoài những thủ tục bắt buộc nêu trên, như đã nói, Quyết định 3688/QĐ-BGTVT ngày 15/11/2013 của Bộ GTVT cũng yêu cầu tiêu chuẩn đối với Vụ trưởng và cấp tương đương là phải hoàn thành các chương trình đào tạo về lý luận chính trị, quản lý hành chính nhà nước từ cao cấp trở lên.\\nBộ GTVT mà cụ thể là Vụ Tổ chức cán bộ của Bộ này đã kiểm tra, rà soát những điều kiện trên trước khi làm quy trình điều động, bổ nhiệm đối với vị trí này?\\nVõ Tuấn', 'input_ids': [3880, 2274, 1851, 43702, 2406, 2419, 2506, 758, 1182, 417, 442, 768, 834, 2671, 14040, 1682, 40464, 658, 768, 203, 1718, 1129, 1028, 1202, 395, 392, 814, 2308, 1478, 417, 3997, 2165, 16, 527, 942, 1187, 416, 1550, 1078, 16, 1568, 2274, 1851, 1528, 1128, 661, 618, 849, 459, 10478, 57, 13, 2406, 2419, 1746, 1966, 1438, 466, 577, 801, 532, 2786, 1249, 2850, 661, 2938, 974, 1956, 3234, 666, 442, 657, 908, 626, 459, 6629, 7022, 10, 6541, 3536, 3973, 13, 549, 365, 1076, 2049, 1187, 1031, 895, 481, 480, 390, 1931, 2083, 18, 203, 3880, 2274, 1851, 1746, 1966, 1438, 698, 43702, 2406, 2419, 480, 963, 1017, 450, 456, 751, 473, 677, 1128, 661, 203, 2403, 1438, 466, 698, 1053, 2362, 852, 879, 4868, 514, 6, 444, 456, 2331, 849, 2406, 2419, 1335, 912, 500, 592, 3784, 2072, 549, 946, 1393, 459, 4004, 1069, 13, 662, 5019, 6059, 1796, 1375, 1350, 549, 413, 792, 975, 636, 1187, 3048, 2540, 309, 826, 1536, 574, 18, 203, 3366, 541, 359, 879, 501, 6, 1993, 1623, 1080, 203, 1362, 365, 897, 1302, 1053, 9685, 2199, 636, 677, 16, 751, 1438, 690, 667, 1174, 683, 16, 1125, 5974, 662, 1160, 525, 471, 561, 657, 413, 1506, 1171, 751, 495, 365, 714, 905, 474, 18, 203, 2293, 778, 16, 395, 417, 626, 667, 16, 730, 467, 1125, 5974, 417, 1144, 663, 910, 781, 561, 586, 473, 867, 1160, 729, 370, 768, 1277, 1532, 1008, 656, 1249, 491, 338, 894, 714, 663, 577, 1040, 1125, 16, 527, 675, 529, 740, 1061, 338, 623, 1099, 395, 30, 5288, 687, 661, 1478, 577, 804, 592, 656, 872, 674, 31, 723, 687, 1128, 661, 663, 577, 510, 553, 5554, 922, 658, 592, 656, 309, 529, 314, 922, 658, 577, 872, 674, 720, 203, 3914, 567, 331, 751, 1438, 1202, 395, 751, 444, 1074, 2053, 683, 314, 1633, 329, 766, 49380, 292, 538, 473, 681, 620, 442, 768, 18, 879, 1978, 1061, 623, 1099, 309, 417, 934, 597, 912, 1343, 5554, 922, 658, 674, 922, 658, 577, 450, 541, 3392, 18, 2606, 541, 2907, 16, 554, 968, 1472, 43702, 21, 449, 442, 736, 491, 1568, 442, 839, 2606, 681, 1956, 2361, 826, 755, 592, 1774, 649, 631, 459, 37992, 13, 370, 768, 669, 524, 1071, 314, 2035, 2274, 1851, 1528, 1128, 661, 618, 849, 1040, 24700, 18, 3095, 467, 16, 1114, 1993, 909, 43702, 21, 395, 694, 527, 968, 1218, 909, 444, 16, 554, 1215, 395, 838, 2003, 751, 1438, 698, 18, 203, 3018, 9685, 2199, 417, 626, 667, 16, 639, 574, 416, 541, 359, 329, 667, 1484, 814, 17551, 706, 769, 1015, 912, 1343, 5554, 922, 658, 16, 751, 1438, 329, 1769, 359, 1814, 413, 774, 449, 518, 589, 314, 658, 768, 685, 442, 768, 35, 2511, 395, 751, 1438, 417, 698, 442, 736, 484, 820, 687, 527, 359, 583, 699, 480, 449, 1211, 604, 5554, 2147, 395, 338, 894, 714, 663, 577, 18, 203, 6, 2133, 768, 314, 390, 1215, 1600, 9, 1993, 450, 1623, 1080, 510, 553, 16, 602, 471, 484, 820, 687, 527, 1215, 1993, 608], 'attention_mask': [1, 1, 1, 1, 1, 1, 1, 1, 1, 1, 1, 1, 1, 1, 1, 1, 1, 1, 1, 1, 1, 1, 1, 1, 1, 1, 1, 1, 1, 1, 1, 1, 1, 1, 1, 1, 1, 1, 1, 1, 1, 1, 1, 1, 1, 1, 1, 1, 1, 1, 1, 1, 1, 1, 1, 1, 1, 1, 1, 1, 1, 1, 1, 1, 1, 1, 1, 1, 1, 1, 1, 1, 1, 1, 1, 1, 1, 1, 1, 1, 1, 1, 1, 1, 1, 1, 1, 1, 1, 1, 1, 1, 1, 1, 1, 1, 1, 1, 1, 1, 1, 1, 1, 1, 1, 1, 1, 1, 1, 1, 1, 1, 1, 1, 1, 1, 1, 1, 1, 1, 1, 1, 1, 1, 1, 1, 1, 1, 1, 1, 1, 1, 1, 1, 1, 1, 1, 1, 1, 1, 1, 1, 1, 1, 1, 1, 1, 1, 1, 1, 1, 1, 1, 1, 1, 1, 1, 1, 1, 1, 1, 1, 1, 1, 1, 1, 1, 1, 1, 1, 1, 1, 1, 1, 1, 1, 1, 1, 1, 1, 1, 1, 1, 1, 1, 1, 1, 1, 1, 1, 1, 1, 1, 1, 1, 1, 1, 1, 1, 1, 1, 1, 1, 1, 1, 1, 1, 1, 1, 1, 1, 1, 1, 1, 1, 1, 1, 1, 1, 1, 1, 1, 1, 1, 1, 1, 1, 1, 1, 1, 1, 1, 1, 1, 1, 1, 1, 1, 1, 1, 1, 1, 1, 1, 1, 1, 1, 1, 1, 1, 1, 1, 1, 1, 1, 1, 1, 1, 1, 1, 1, 1, 1, 1, 1, 1, 1, 1, 1, 1, 1, 1, 1, 1, 1, 1, 1, 1, 1, 1, 1, 1, 1, 1, 1, 1, 1, 1, 1, 1, 1, 1, 1, 1, 1, 1, 1, 1, 1, 1, 1, 1, 1, 1, 1, 1, 1, 1, 1, 1, 1, 1, 1, 1, 1, 1, 1, 1, 1, 1, 1, 1, 1, 1, 1, 1, 1, 1, 1, 1, 1, 1, 1, 1, 1, 1, 1, 1, 1, 1, 1, 1, 1, 1, 1, 1, 1, 1, 1, 1, 1, 1, 1, 1, 1, 1, 1, 1, 1, 1, 1, 1, 1, 1, 1, 1, 1, 1, 1, 1, 1, 1, 1, 1, 1, 1, 1, 1, 1, 1, 1, 1, 1, 1, 1, 1, 1, 1, 1, 1, 1, 1, 1, 1, 1, 1, 1, 1, 1, 1, 1, 1, 1, 1, 1, 1, 1, 1, 1, 1, 1, 1, 1, 1, 1, 1, 1, 1, 1, 1, 1, 1, 1, 1, 1, 1, 1, 1, 1, 1, 1, 1, 1, 1, 1, 1, 1, 1, 1, 1, 1, 1, 1, 1, 1, 1, 1, 1, 1, 1, 1, 1, 1, 1, 1, 1, 1, 1, 1, 1, 1, 1, 1, 1, 1, 1, 1, 1, 1, 1, 1, 1, 1, 1, 1, 1, 1, 1, 1, 1, 1, 1, 1, 1, 1, 1, 1, 1, 1, 1, 1, 1, 1, 1, 1, 1, 1, 1, 1, 1, 1, 1, 1, 1, 1, 1, 1, 1, 1, 1, 1, 1]}\n",
            "\n",
            "--- Eval Dataset ---\n",
            "Columns: ['text', 'input_ids', 'attention_mask']\n",
            "Number of samples: 2000\n",
            "Sample entry: {'text': 'Othakalmandapam là một thị xã panchayat của quận Coimbatore thuộc bang Tamil Nadu, Ấn Độ.\\n\\nNhân khẩu\\nTheo điều tra dân số năm 2001 của Ấn Độ, Othakalmandapam có dân số 9681 người. Phái nam chiếm 51% tổng số dân và phái nữ chiếm 49%. Othakalmandapam có tỷ lệ 70% biết đọc biết viết, cao hơn tỷ lệ trung bình toàn quốc là 59,5%: tỷ lệ cho phái nam là 78%, và tỷ lệ cho phái nữ là 61%. Tại Othakalmandapam, 9% dân số nhỏ hơn 6 tuổi.\\n\\nTham khảo\\n\\nThành phố thuộc bang Tamil Nadu\\nNgoại ô Coimbatore', 'input_ids': [51, 992, 1614, 713, 20128, 1119, 402, 314, 365, 733, 977, 11749, 30314, 816, 331, 1567, 3364, 646, 11332, 1943, 1040, 2945, 36042, 12827, 89, 16, 3047, 2584, 18, 203, 203, 4540, 1374, 203, 1488, 623, 1140, 705, 453, 541, 7321, 331, 3047, 2584, 16, 1156, 992, 1614, 713, 20128, 1119, 402, 329, 705, 453, 1122, 33740, 390, 18, 10351, 1321, 2060, 5806, 9, 1294, 453, 705, 309, 2623, 1105, 2060, 5194, 2710, 1156, 992, 1614, 713, 20128, 1119, 402, 329, 1243, 1368, 2812, 9, 670, 1502, 670, 1207, 16, 592, 574, 1243, 1368, 892, 1041, 710, 921, 314, 6468, 16, 25, 29113, 1243, 1368, 358, 2623, 1321, 314, 7659, 2983, 309, 1243, 1368, 358, 2623, 1105, 314, 7287, 2710, 2172, 1156, 992, 1614, 713, 20128, 1119, 402, 16, 1122, 9, 705, 453, 995, 574, 890, 1003, 18, 203, 203, 5248, 1627, 203, 203, 4637, 1026, 1040, 2945, 36042, 12827, 89, 203, 10903, 1533, 3364, 646, 11332, 1943, 50258, 50258, 50258, 50258, 50258, 50258, 50258, 50258, 50258, 50258, 50258, 50258, 50258, 50258, 50258, 50258, 50258, 50258, 50258, 50258, 50258, 50258, 50258, 50258, 50258, 50258, 50258, 50258, 50258, 50258, 50258, 50258, 50258, 50258, 50258, 50258, 50258, 50258, 50258, 50258, 50258, 50258, 50258, 50258, 50258, 50258, 50258, 50258, 50258, 50258, 50258, 50258, 50258, 50258, 50258, 50258, 50258, 50258, 50258, 50258, 50258, 50258, 50258, 50258, 50258, 50258, 50258, 50258, 50258, 50258, 50258, 50258, 50258, 50258, 50258, 50258, 50258, 50258, 50258, 50258, 50258, 50258, 50258, 50258, 50258, 50258, 50258, 50258, 50258, 50258, 50258, 50258, 50258, 50258, 50258, 50258, 50258, 50258, 50258, 50258, 50258, 50258, 50258, 50258, 50258, 50258, 50258, 50258, 50258, 50258, 50258, 50258, 50258, 50258, 50258, 50258, 50258, 50258, 50258, 50258, 50258, 50258, 50258, 50258, 50258, 50258, 50258, 50258, 50258, 50258, 50258, 50258, 50258, 50258, 50258, 50258, 50258, 50258, 50258, 50258, 50258, 50258, 50258, 50258, 50258, 50258, 50258, 50258, 50258, 50258, 50258, 50258, 50258, 50258, 50258, 50258, 50258, 50258, 50258, 50258, 50258, 50258, 50258, 50258, 50258, 50258, 50258, 50258, 50258, 50258, 50258, 50258, 50258, 50258, 50258, 50258, 50258, 50258, 50258, 50258, 50258, 50258, 50258, 50258, 50258, 50258, 50258, 50258, 50258, 50258, 50258, 50258, 50258, 50258, 50258, 50258, 50258, 50258, 50258, 50258, 50258, 50258, 50258, 50258, 50258, 50258, 50258, 50258, 50258, 50258, 50258, 50258, 50258, 50258, 50258, 50258, 50258, 50258, 50258, 50258, 50258, 50258, 50258, 50258, 50258, 50258, 50258, 50258, 50258, 50258, 50258, 50258, 50258, 50258, 50258, 50258, 50258, 50258, 50258, 50258, 50258, 50258, 50258, 50258, 50258, 50258, 50258, 50258, 50258, 50258, 50258, 50258, 50258, 50258, 50258, 50258, 50258, 50258, 50258, 50258, 50258, 50258, 50258, 50258, 50258, 50258, 50258, 50258, 50258, 50258, 50258, 50258, 50258, 50258, 50258, 50258, 50258, 50258, 50258, 50258, 50258, 50258, 50258, 50258, 50258, 50258, 50258, 50258, 50258, 50258, 50258, 50258, 50258, 50258, 50258, 50258, 50258, 50258, 50258, 50258, 50258, 50258, 50258, 50258, 50258, 50258, 50258, 50258, 50258, 50258, 50258, 50258, 50258, 50258, 50258, 50258, 50258, 50258, 50258, 50258, 50258, 50258, 50258, 50258, 50258, 50258, 50258, 50258, 50258, 50258, 50258, 50258, 50258, 50258, 50258, 50258, 50258, 50258, 50258, 50258, 50258, 50258, 50258, 50258, 50258, 50258, 50258, 50258, 50258, 50258, 50258, 50258, 50258, 50258], 'attention_mask': [1, 1, 1, 1, 1, 1, 1, 1, 1, 1, 1, 1, 1, 1, 1, 1, 1, 1, 1, 1, 1, 1, 1, 1, 1, 1, 1, 1, 1, 1, 1, 1, 1, 1, 1, 1, 1, 1, 1, 1, 1, 1, 1, 1, 1, 1, 1, 1, 1, 1, 1, 1, 1, 1, 1, 1, 1, 1, 1, 1, 1, 1, 1, 1, 1, 1, 1, 1, 1, 1, 1, 1, 1, 1, 1, 1, 1, 1, 1, 1, 1, 1, 1, 1, 1, 1, 1, 1, 1, 1, 1, 1, 1, 1, 1, 1, 1, 1, 1, 1, 1, 1, 1, 1, 1, 1, 1, 1, 1, 1, 1, 1, 1, 1, 1, 1, 1, 1, 1, 1, 1, 1, 1, 1, 1, 1, 1, 1, 1, 1, 1, 1, 1, 1, 1, 1, 1, 1, 1, 1, 1, 1, 1, 1, 1, 1, 1, 1, 1, 1, 1, 1, 1, 1, 1, 1, 1, 1, 0, 0, 0, 0, 0, 0, 0, 0, 0, 0, 0, 0, 0, 0, 0, 0, 0, 0, 0, 0, 0, 0, 0, 0, 0, 0, 0, 0, 0, 0, 0, 0, 0, 0, 0, 0, 0, 0, 0, 0, 0, 0, 0, 0, 0, 0, 0, 0, 0, 0, 0, 0, 0, 0, 0, 0, 0, 0, 0, 0, 0, 0, 0, 0, 0, 0, 0, 0, 0, 0, 0, 0, 0, 0, 0, 0, 0, 0, 0, 0, 0, 0, 0, 0, 0, 0, 0, 0, 0, 0, 0, 0, 0, 0, 0, 0, 0, 0, 0, 0, 0, 0, 0, 0, 0, 0, 0, 0, 0, 0, 0, 0, 0, 0, 0, 0, 0, 0, 0, 0, 0, 0, 0, 0, 0, 0, 0, 0, 0, 0, 0, 0, 0, 0, 0, 0, 0, 0, 0, 0, 0, 0, 0, 0, 0, 0, 0, 0, 0, 0, 0, 0, 0, 0, 0, 0, 0, 0, 0, 0, 0, 0, 0, 0, 0, 0, 0, 0, 0, 0, 0, 0, 0, 0, 0, 0, 0, 0, 0, 0, 0, 0, 0, 0, 0, 0, 0, 0, 0, 0, 0, 0, 0, 0, 0, 0, 0, 0, 0, 0, 0, 0, 0, 0, 0, 0, 0, 0, 0, 0, 0, 0, 0, 0, 0, 0, 0, 0, 0, 0, 0, 0, 0, 0, 0, 0, 0, 0, 0, 0, 0, 0, 0, 0, 0, 0, 0, 0, 0, 0, 0, 0, 0, 0, 0, 0, 0, 0, 0, 0, 0, 0, 0, 0, 0, 0, 0, 0, 0, 0, 0, 0, 0, 0, 0, 0, 0, 0, 0, 0, 0, 0, 0, 0, 0, 0, 0, 0, 0, 0, 0, 0, 0, 0, 0, 0, 0, 0, 0, 0, 0, 0, 0, 0, 0, 0, 0, 0, 0, 0, 0, 0, 0, 0, 0, 0, 0, 0, 0, 0, 0, 0, 0, 0, 0, 0, 0, 0, 0, 0, 0, 0, 0, 0, 0, 0, 0, 0, 0, 0, 0, 0, 0, 0, 0, 0, 0, 0, 0, 0, 0, 0, 0, 0, 0, 0, 0, 0, 0, 0, 0, 0, 0, 0]}\n",
            "\n"
          ]
        }
      ]
    },
    {
      "cell_type": "code",
      "execution_count": null,
      "id": "2ftPARPtzrDU",
      "metadata": {
        "id": "2ftPARPtzrDU"
      },
      "outputs": [],
      "source": [
        "data_collator = DataCollatorForLanguageModeling(tokenizer=tokenizer, mlm=False)"
      ]
    },
    {
      "cell_type": "code",
      "source": [
        "from transformers import TrainerCallback\n",
        "\n",
        "class SaveLastEpochsCallback(TrainerCallback):\n",
        "    def on_epoch_end(self, args, state, control, model=None, **kwargs):\n",
        "        if state.epoch in [24.0, 25.0]:  # epoch tính theo float\n",
        "            ckpt_path = f\"{args.output_dir}/custom_checkpoint_epoch_{int(state.epoch)}\"\n",
        "            model.save_pretrained(ckpt_path)\n",
        "            print(f\"✅ Saved model manually at epoch {int(state.epoch)} → {ckpt_path}\")\n",
        "        return control"
      ],
      "metadata": {
        "id": "D8zFixLhfRA5"
      },
      "id": "D8zFixLhfRA5",
      "execution_count": null,
      "outputs": []
    },
    {
      "cell_type": "code",
      "execution_count": null,
      "id": "1RfFah-dzs8t",
      "metadata": {
        "id": "1RfFah-dzs8t"
      },
      "outputs": [],
      "source": [
        "from transformers import TrainingArguments, Trainer, EvalPrediction\n",
        "\n",
        "training_args = TrainingArguments(\n",
        "    output_dir=OUTPUT_TEMP_DIR,\n",
        "    overwrite_output_dir=True,\n",
        "    num_train_epochs=50,\n",
        "    per_device_train_batch_size=48,\n",
        "    per_device_eval_batch_size=96,\n",
        "    save_total_limit=2,\n",
        "    learning_rate=5e-5,\n",
        "    fp16=True,\n",
        "    load_best_model_at_end=True,\n",
        "    prediction_loss_only=False,\n",
        "    save_strategy=\"epoch\",\n",
        "    eval_strategy=\"epoch\",\n",
        "    logging_strategy=\"epoch\",\n",
        "    metric_for_best_model=\"eval_loss\",\n",
        "    greater_is_better=False\n",
        ")"
      ]
    },
    {
      "cell_type": "code",
      "execution_count": null,
      "id": "FtzUrbNdzveh",
      "metadata": {
        "id": "FtzUrbNdzveh"
      },
      "outputs": [],
      "source": [
        "from transformers import EarlyStoppingCallback\n",
        "\n",
        "callbacks = [SaveLastEpochsCallback(), EarlyStoppingCallback(early_stopping_patience=15)]\n"
      ]
    },
    {
      "cell_type": "code",
      "execution_count": null,
      "id": "O8OJXf-5zxPj",
      "metadata": {
        "id": "O8OJXf-5zxPj"
      },
      "outputs": [],
      "source": [
        "trainer = Trainer(\n",
        "    model=model,\n",
        "    args=training_args,\n",
        "    train_dataset=train_dataset,\n",
        "    eval_dataset=eval_dataset,\n",
        "    data_collator=data_collator,\n",
        "    callbacks=callbacks\n",
        ")\n"
      ]
    },
    {
      "cell_type": "code",
      "execution_count": null,
      "id": "KKYNtEBhz0gY",
      "metadata": {
        "colab": {
          "base_uri": "https://localhost:8080/",
          "height": 880
        },
        "id": "KKYNtEBhz0gY",
        "outputId": "57784463-53db-4be9-fdec-26c186a79e40"
      },
      "outputs": [
        {
          "output_type": "display_data",
          "data": {
            "text/plain": [
              "<IPython.core.display.HTML object>"
            ],
            "text/html": [
              "\n",
              "    <div>\n",
              "      \n",
              "      <progress value='10008' max='20850' style='width:300px; height:20px; vertical-align: middle;'></progress>\n",
              "      [10008/20850 1:15:03 < 1:21:19, 2.22 it/s, Epoch 24/50]\n",
              "    </div>\n",
              "    <table border=\"1\" class=\"dataframe\">\n",
              "  <thead>\n",
              " <tr style=\"text-align: left;\">\n",
              "      <th>Epoch</th>\n",
              "      <th>Training Loss</th>\n",
              "      <th>Validation Loss</th>\n",
              "    </tr>\n",
              "  </thead>\n",
              "  <tbody>\n",
              "    <tr>\n",
              "      <td>1</td>\n",
              "      <td>2.549900</td>\n",
              "      <td>2.597576</td>\n",
              "    </tr>\n",
              "    <tr>\n",
              "      <td>2</td>\n",
              "      <td>2.515700</td>\n",
              "      <td>2.581277</td>\n",
              "    </tr>\n",
              "    <tr>\n",
              "      <td>3</td>\n",
              "      <td>2.489000</td>\n",
              "      <td>2.570811</td>\n",
              "    </tr>\n",
              "    <tr>\n",
              "      <td>4</td>\n",
              "      <td>2.464900</td>\n",
              "      <td>2.564882</td>\n",
              "    </tr>\n",
              "    <tr>\n",
              "      <td>5</td>\n",
              "      <td>2.443100</td>\n",
              "      <td>2.559831</td>\n",
              "    </tr>\n",
              "    <tr>\n",
              "      <td>6</td>\n",
              "      <td>2.423000</td>\n",
              "      <td>2.556858</td>\n",
              "    </tr>\n",
              "    <tr>\n",
              "      <td>7</td>\n",
              "      <td>2.403700</td>\n",
              "      <td>2.554256</td>\n",
              "    </tr>\n",
              "    <tr>\n",
              "      <td>8</td>\n",
              "      <td>2.385400</td>\n",
              "      <td>2.553545</td>\n",
              "    </tr>\n",
              "    <tr>\n",
              "      <td>9</td>\n",
              "      <td>2.368200</td>\n",
              "      <td>2.553513</td>\n",
              "    </tr>\n",
              "    <tr>\n",
              "      <td>10</td>\n",
              "      <td>2.351100</td>\n",
              "      <td>2.553790</td>\n",
              "    </tr>\n",
              "    <tr>\n",
              "      <td>11</td>\n",
              "      <td>2.335000</td>\n",
              "      <td>2.554732</td>\n",
              "    </tr>\n",
              "    <tr>\n",
              "      <td>12</td>\n",
              "      <td>2.319300</td>\n",
              "      <td>2.556257</td>\n",
              "    </tr>\n",
              "    <tr>\n",
              "      <td>13</td>\n",
              "      <td>2.304000</td>\n",
              "      <td>2.559954</td>\n",
              "    </tr>\n",
              "    <tr>\n",
              "      <td>14</td>\n",
              "      <td>2.289300</td>\n",
              "      <td>2.562206</td>\n",
              "    </tr>\n",
              "    <tr>\n",
              "      <td>15</td>\n",
              "      <td>2.275200</td>\n",
              "      <td>2.565042</td>\n",
              "    </tr>\n",
              "    <tr>\n",
              "      <td>16</td>\n",
              "      <td>2.261100</td>\n",
              "      <td>2.568655</td>\n",
              "    </tr>\n",
              "    <tr>\n",
              "      <td>17</td>\n",
              "      <td>2.247300</td>\n",
              "      <td>2.573490</td>\n",
              "    </tr>\n",
              "    <tr>\n",
              "      <td>18</td>\n",
              "      <td>2.234300</td>\n",
              "      <td>2.577455</td>\n",
              "    </tr>\n",
              "    <tr>\n",
              "      <td>19</td>\n",
              "      <td>2.221400</td>\n",
              "      <td>2.581990</td>\n",
              "    </tr>\n",
              "    <tr>\n",
              "      <td>20</td>\n",
              "      <td>2.209000</td>\n",
              "      <td>2.587047</td>\n",
              "    </tr>\n",
              "    <tr>\n",
              "      <td>21</td>\n",
              "      <td>2.196700</td>\n",
              "      <td>2.592198</td>\n",
              "    </tr>\n",
              "    <tr>\n",
              "      <td>22</td>\n",
              "      <td>2.185100</td>\n",
              "      <td>2.596932</td>\n",
              "    </tr>\n",
              "    <tr>\n",
              "      <td>23</td>\n",
              "      <td>2.173700</td>\n",
              "      <td>2.602909</td>\n",
              "    </tr>\n",
              "    <tr>\n",
              "      <td>24</td>\n",
              "      <td>2.162800</td>\n",
              "      <td>2.608725</td>\n",
              "    </tr>\n",
              "  </tbody>\n",
              "</table><p>"
            ]
          },
          "metadata": {}
        },
        {
          "output_type": "stream",
          "name": "stdout",
          "text": [
            "✅ Saved model manually at epoch 24 → /content/temp/checkpoint/custom_checkpoint_epoch_24\n"
          ]
        },
        {
          "output_type": "stream",
          "name": "stderr",
          "text": [
            "There were missing keys in the checkpoint model loaded: ['lm_head.weight'].\n"
          ]
        },
        {
          "output_type": "stream",
          "name": "stdout",
          "text": [
            "Model fine-tuned and saved at /content/drive/MyDrive/model/GPT-2-124m\n"
          ]
        }
      ],
      "source": [
        "trainer.train()\n",
        "trainer.save_model(OUTPUT_DIR)\n",
        "tokenizer.save_pretrained(OUTPUT_DIR)\n",
        "print(f\"Model fine-tuned and saved at {OUTPUT_DIR}\")"
      ]
    },
    {
      "cell_type": "code",
      "source": [
        "%matplotlib inline\n",
        "import matplotlib.pyplot as plt\n",
        "import pandas as pd\n",
        "\n",
        "# Get the logs\n",
        "logs = trainer.state.log_history\n",
        "\n",
        "# Convert to a pandas DataFrame for easier plotting\n",
        "df = pd.DataFrame(logs)\n",
        "\n",
        "# Filter out steps that are not epochs (like initial logging)\n",
        "df_epochs = df[df['epoch'].notna() & (df['loss'].notna() | df['eval_loss'].notna())]\n",
        "\n",
        "plt.figure(figsize=(10, 6))\n",
        "\n",
        "# Plot training loss if available and not all values are NaN\n",
        "if 'loss' in df_epochs.columns and not df_epochs['loss'].isnull().all():\n",
        "    plt.plot(df_epochs['epoch'][df_epochs['loss'].notna()], df_epochs['loss'][df_epochs['loss'].notna()], label='Training Loss')\n",
        "\n",
        "# Plot evaluation loss if available and not all values are NaN\n",
        "if 'eval_loss' in df_epochs.columns and not df_epochs['eval_loss'].isnull().all():\n",
        "    plt.plot(df_epochs['epoch'][df_epochs['eval_loss'].notna()], df_epochs['eval_loss'][df_epochs['eval_loss'].notna()], label='Evaluation Loss')\n",
        "\n",
        "plt.xlabel('Epoch')\n",
        "plt.ylabel('Loss')\n",
        "plt.title('Training and Evaluation Loss Over Epochs')\n",
        "plt.legend()\n",
        "plt.grid(True)\n",
        "plt.show()"
      ],
      "metadata": {
        "colab": {
          "base_uri": "https://localhost:8080/",
          "height": 564
        },
        "id": "AcXIXMw10lbf",
        "outputId": "666870c8-e894-4ef7-901f-2f8d6ebed01c"
      },
      "id": "AcXIXMw10lbf",
      "execution_count": null,
      "outputs": [
        {
          "output_type": "display_data",
          "data": {
            "text/plain": [
              "<Figure size 1000x600 with 1 Axes>"
            ],
            "image/png": "[encoded data removed]"
          },
          "metadata": {}
        }
      ]
    },
    {
      "cell_type": "code",
      "execution_count": null,
      "id": "5IMeAlWfz8Q8",
      "metadata": {
        "colab": {
          "base_uri": "https://localhost:8080/"
        },
        "id": "5IMeAlWfz8Q8",
        "outputId": "74a2c859-00c0-494f-8c93-ae1081f567e2"
      },
      "outputs": [
        {
          "output_type": "stream",
          "name": "stdout",
          "text": [
            "Prompt: Trường đại học là một nơi\n",
            " Generation 1: Trường đại học là một nơi đào tạo đa ngành: Kinh tế, Kế toán, Ngôn ngữ Anh, Tài chính ngân hàng, Truyền thông và quản trị kinh doanh, Công nghệ thông tin và truyền thông.\n",
            "Các trường đại học được công nhận trên toàn thế giới.\n",
            "Các chương trình đào tạo phổ biến tại Đại học Oxford\n",
            "Các chuyên ngành đào tạo có thể được cung cấp tại bất kỳ khoa nào tại Đại học Oxford.\n",
            "Mục lục\n",
            "1 Giáo dục đại học tại Đại học\n",
            "\n",
            " Generation 2: Trường đại học là một nơi không thể thiếu để các sinh viên có được kiến thức về kinh tế, xã hội, giáo dục, y dược. Đồng thời đây cũng là nơi các cán bộ giảng dạy của trường có cơ hội nâng cao chuyên môn, đáp ứng yêu cầu đào tạo cán bộ giảng dạy đại học của trường trong thời đại công nghiệp 4.0\n",
            "Trường đại học đào tạo một khóa học chính trị, quản lý, tổng hợp, nghiên cứu khoa học, sư phạm, văn\n",
            "\n"
          ]
        }
      ],
      "source": [
        "def load_model_and_tokenizer(model_dir):\n",
        "    \"\"\"Load fine-tuned model and tokenizer from the given directory.\"\"\"\n",
        "    tok = GPT2TokenizerFast.from_pretrained(model_dir)\n",
        "    mdl = GPT2LMHeadModel.from_pretrained(model_dir)\n",
        "    mdl.eval()\n",
        "    return mdl, tok\n",
        "\n",
        "\n",
        "def generate_text(prompt, model, tokenizer, max_length=50, num_return_sequences=1):\n",
        "    \"\"\"Generate continuations for a given prompt.\"\"\"\n",
        "    inputs = tokenizer.encode(prompt, return_tensors='pt')\n",
        "    outputs = model.generate(\n",
        "        inputs,\n",
        "        max_length=max_length,\n",
        "        do_sample=True,\n",
        "        top_k=50,\n",
        "        top_p=0.95,\n",
        "        num_return_sequences=num_return_sequences,\n",
        "        pad_token_id=tokenizer.pad_token_id\n",
        "    )\n",
        "    return [tokenizer.decode(o, skip_special_tokens=True) for o in outputs]\n",
        "\n",
        "if __name__ == \"__main__\":\n",
        "    # Example usage after training\n",
        "    model, tokenizer = load_model_and_tokenizer(OUTPUT_DIR)\n",
        "    test_prompts = [\"Trường đại học là một nơi\"]\n",
        "    for prompt in test_prompts:\n",
        "        print(f\"Prompt: {prompt}\")\n",
        "        generations = generate_text(prompt, model, tokenizer, max_length=100, num_return_sequences=2)\n",
        "        for i, gen in enumerate(generations, start=1):\n",
        "            print(f\" Generation {i}: {gen}\\n\")"
      ]
    },
    {
      "cell_type": "code",
      "source": [
        "def predict_next_full_word(prompt, model, tokenizer, top_k=50, top_p=0.95, max_attempts=10):\n",
        "    model.eval()\n",
        "    inputs = tokenizer.encode(prompt, return_tensors='pt')\n",
        "    input_ids = inputs[0]\n",
        "    input_len = input_ids.shape[0]\n",
        "\n",
        "    # Loop token until 1 completed word\n",
        "    for _ in range(max_attempts):\n",
        "        outputs = model.generate(\n",
        "            inputs,\n",
        "            max_new_tokens=3,  # new max token =3\n",
        "            do_sample=True,\n",
        "            top_k=top_k,\n",
        "            top_p=top_p,\n",
        "            num_return_sequences=1,\n",
        "            pad_token_id=tokenizer.pad_token_id,\n",
        "        )\n",
        "\n",
        "        generated_ids = outputs[0][input_len:]\n",
        "        decoded = tokenizer.decode(generated_ids, skip_special_tokens=True).strip()\n",
        "\n",
        "        # Check if the word is completed\n",
        "        words = decoded.split()\n",
        "        if len(words) >= 1:\n",
        "            return words[0]  # Return first word\n",
        "\n",
        "    return \"\"  # If not generating anything after max_attempts\n"
      ],
      "metadata": {
        "id": "EdUZZXF5Y9Dn"
      },
      "id": "EdUZZXF5Y9Dn",
      "execution_count": null,
      "outputs": []
    },
    {
      "cell_type": "code",
      "source": [
        "if __name__ == \"__main__\":\n",
        "    model, tokenizer = load_model_and_tokenizer(OUTPUT_DIR)\n",
        "    prompt = \"Trường đại học là một nơi\"\n",
        "    next_word = predict_next_full_word(prompt, model, tokenizer)\n",
        "    print(f\"Prompt: {prompt}\")\n",
        "    print(f\"Next word prediction: {next_word}\")\n"
      ],
      "metadata": {
        "colab": {
          "base_uri": "https://localhost:8080/"
        },
        "id": "ox6ZWx9tZAB4",
        "outputId": "5c85366a-dcf0-42e5-eaf1-18b61b61f264"
      },
      "id": "ox6ZWx9tZAB4",
      "execution_count": null,
      "outputs": [
        {
          "output_type": "stream",
          "name": "stdout",
          "text": [
            "Prompt: Trường đại học là một nơi\n",
            "Next word prediction: tốt\n"
          ]
        }
      ]
    }
  ],
  "metadata": {
    "accelerator": "GPU",
    "colab": {
      "gpuType": "A100",
      "machine_shape": "hm",
      "provenance": []
    },
    "kernelspec": {
      "display_name": "Python 3",
      "name": "python3"
    },
    "language_info": {
      "name": "python"
    },
    "widgets": {
      "application/vnd.jupyter.widget-state+json": {
        "08554fa0ccc048e09d764748afc4f65a": {
          "model_module": "@jupyter-widgets/controls",
          "model_name": "HBoxModel",
          "model_module_version": "1.5.0",
          "state": {
            "_dom_classes": [],
            "_model_module": "@jupyter-widgets/controls",
            "_model_module_version": "1.5.0",
            "_model_name": "HBoxModel",
            "_view_count": null,
            "_view_module": "@jupyter-widgets/controls",
            "_view_module_version": "1.5.0",
            "_view_name": "HBoxView",
            "box_style": "",
            "children": [
              "IPY_MODEL_b457e410901c4bc7ad3a32467c36e391",
              "IPY_MODEL_95e8a617d4284400a6020f563f2ce3b7",
              "IPY_MODEL_10f32c6044624322a5e1bef5f958fbbb"
            ],
            "layout": "IPY_MODEL_070fe2c29dd744b1917aee357f576739"
          }
        },
        "b457e410901c4bc7ad3a32467c36e391": {
          "model_module": "@jupyter-widgets/controls",
          "model_name": "HTMLModel",
          "model_module_version": "1.5.0",
          "state": {
            "_dom_classes": [],
            "_model_module": "@jupyter-widgets/controls",
            "_model_module_version": "1.5.0",
            "_model_name": "HTMLModel",
            "_view_count": null,
            "_view_module": "@jupyter-widgets/controls",
            "_view_module_version": "1.5.0",
            "_view_name": "HTMLView",
            "description": "",
            "description_tooltip": null,
            "layout": "IPY_MODEL_6e56b757bc3c40a9b40a463e0e217f1b",
            "placeholder": "​",
            "style": "IPY_MODEL_9c637406c78248c5a68f5996424d7a46",
            "value": "Resolving data files: 100%"
          }
        },
        "95e8a617d4284400a6020f563f2ce3b7": {
          "model_module": "@jupyter-widgets/controls",
          "model_name": "FloatProgressModel",
          "model_module_version": "1.5.0",
          "state": {
            "_dom_classes": [],
            "_model_module": "@jupyter-widgets/controls",
            "_model_module_version": "1.5.0",
            "_model_name": "FloatProgressModel",
            "_view_count": null,
            "_view_module": "@jupyter-widgets/controls",
            "_view_module_version": "1.5.0",
            "_view_name": "ProgressView",
            "bar_style": "success",
            "description": "",
            "description_tooltip": null,
            "layout": "IPY_MODEL_9682783b55aa4672859c125eb8f38654",
            "max": 132,
            "min": 0,
            "orientation": "horizontal",
            "style": "IPY_MODEL_113bcf62ae604015b3d8c52b2d10b5e7",
            "value": 132
          }
        },
        "10f32c6044624322a5e1bef5f958fbbb": {
          "model_module": "@jupyter-widgets/controls",
          "model_name": "HTMLModel",
          "model_module_version": "1.5.0",
          "state": {
            "_dom_classes": [],
            "_model_module": "@jupyter-widgets/controls",
            "_model_module_version": "1.5.0",
            "_model_name": "HTMLModel",
            "_view_count": null,
            "_view_module": "@jupyter-widgets/controls",
            "_view_module_version": "1.5.0",
            "_view_name": "HTMLView",
            "description": "",
            "description_tooltip": null,
            "layout": "IPY_MODEL_da19052aa6034f6cbaa90b57c6ce1006",
            "placeholder": "​",
            "style": "IPY_MODEL_22a656fbcab74f95aeeaef8415954ac8",
            "value": " 132/132 [00:00&lt;00:00,  6.05it/s]"
          }
        },
        "070fe2c29dd744b1917aee357f576739": {
          "model_module": "@jupyter-widgets/base",
          "model_name": "LayoutModel",
          "model_module_version": "1.2.0",
          "state": {
            "_model_module": "@jupyter-widgets/base",
            "_model_module_version": "1.2.0",
            "_model_name": "LayoutModel",
            "_view_count": null,
            "_view_module": "@jupyter-widgets/base",
            "_view_module_version": "1.2.0",
            "_view_name": "LayoutView",
            "align_content": null,
            "align_items": null,
            "align_self": null,
            "border": null,
            "bottom": null,
            "display": null,
            "flex": null,
            "flex_flow": null,
            "grid_area": null,
            "grid_auto_columns": null,
            "grid_auto_flow": null,
            "grid_auto_rows": null,
            "grid_column": null,
            "grid_gap": null,
            "grid_row": null,
            "grid_template_areas": null,
            "grid_template_columns": null,
            "grid_template_rows": null,
            "height": null,
            "justify_content": null,
            "justify_items": null,
            "left": null,
            "margin": null,
            "max_height": null,
            "max_width": null,
            "min_height": null,
            "min_width": null,
            "object_fit": null,
            "object_position": null,
            "order": null,
            "overflow": null,
            "overflow_x": null,
            "overflow_y": null,
            "padding": null,
            "right": null,
            "top": null,
            "visibility": null,
            "width": null
          }
        },
        "6e56b757bc3c40a9b40a463e0e217f1b": {
          "model_module": "@jupyter-widgets/base",
          "model_name": "LayoutModel",
          "model_module_version": "1.2.0",
          "state": {
            "_model_module": "@jupyter-widgets/base",
            "_model_module_version": "1.2.0",
            "_model_name": "LayoutModel",
            "_view_count": null,
            "_view_module": "@jupyter-widgets/base",
            "_view_module_version": "1.2.0",
            "_view_name": "LayoutView",
            "align_content": null,
            "align_items": null,
            "align_self": null,
            "border": null,
            "bottom": null,
            "display": null,
            "flex": null,
            "flex_flow": null,
            "grid_area": null,
            "grid_auto_columns": null,
            "grid_auto_flow": null,
            "grid_auto_rows": null,
            "grid_column": null,
            "grid_gap": null,
            "grid_row": null,
            "grid_template_areas": null,
            "grid_template_columns": null,
            "grid_template_rows": null,
            "height": null,
            "justify_content": null,
            "justify_items": null,
            "left": null,
            "margin": null,
            "max_height": null,
            "max_width": null,
            "min_height": null,
            "min_width": null,
            "object_fit": null,
            "object_position": null,
            "order": null,
            "overflow": null,
            "overflow_x": null,
            "overflow_y": null,
            "padding": null,
            "right": null,
            "top": null,
            "visibility": null,
            "width": null
          }
        },
        "9c637406c78248c5a68f5996424d7a46": {
          "model_module": "@jupyter-widgets/controls",
          "model_name": "DescriptionStyleModel",
          "model_module_version": "1.5.0",
          "state": {
            "_model_module": "@jupyter-widgets/controls",
            "_model_module_version": "1.5.0",
            "_model_name": "DescriptionStyleModel",
            "_view_count": null,
            "_view_module": "@jupyter-widgets/base",
            "_view_module_version": "1.2.0",
            "_view_name": "StyleView",
            "description_width": ""
          }
        },
        "9682783b55aa4672859c125eb8f38654": {
          "model_module": "@jupyter-widgets/base",
          "model_name": "LayoutModel",
          "model_module_version": "1.2.0",
          "state": {
            "_model_module": "@jupyter-widgets/base",
            "_model_module_version": "1.2.0",
            "_model_name": "LayoutModel",
            "_view_count": null,
            "_view_module": "@jupyter-widgets/base",
            "_view_module_version": "1.2.0",
            "_view_name": "LayoutView",
            "align_content": null,
            "align_items": null,
            "align_self": null,
            "border": null,
            "bottom": null,
            "display": null,
            "flex": null,
            "flex_flow": null,
            "grid_area": null,
            "grid_auto_columns": null,
            "grid_auto_flow": null,
            "grid_auto_rows": null,
            "grid_column": null,
            "grid_gap": null,
            "grid_row": null,
            "grid_template_areas": null,
            "grid_template_columns": null,
            "grid_template_rows": null,
            "height": null,
            "justify_content": null,
            "justify_items": null,
            "left": null,
            "margin": null,
            "max_height": null,
            "max_width": null,
            "min_height": null,
            "min_width": null,
            "object_fit": null,
            "object_position": null,
            "order": null,
            "overflow": null,
            "overflow_x": null,
            "overflow_y": null,
            "padding": null,
            "right": null,
            "top": null,
            "visibility": null,
            "width": null
          }
        },
        "113bcf62ae604015b3d8c52b2d10b5e7": {
          "model_module": "@jupyter-widgets/controls",
          "model_name": "ProgressStyleModel",
          "model_module_version": "1.5.0",
          "state": {
            "_model_module": "@jupyter-widgets/controls",
            "_model_module_version": "1.5.0",
            "_model_name": "ProgressStyleModel",
            "_view_count": null,
            "_view_module": "@jupyter-widgets/base",
            "_view_module_version": "1.2.0",
            "_view_name": "StyleView",
            "bar_color": null,
            "description_width": ""
          }
        },
        "da19052aa6034f6cbaa90b57c6ce1006": {
          "model_module": "@jupyter-widgets/base",
          "model_name": "LayoutModel",
          "model_module_version": "1.2.0",
          "state": {
            "_model_module": "@jupyter-widgets/base",
            "_model_module_version": "1.2.0",
            "_model_name": "LayoutModel",
            "_view_count": null,
            "_view_module": "@jupyter-widgets/base",
            "_view_module_version": "1.2.0",
            "_view_name": "LayoutView",
            "align_content": null,
            "align_items": null,
            "align_self": null,
            "border": null,
            "bottom": null,
            "display": null,
            "flex": null,
            "flex_flow": null,
            "grid_area": null,
            "grid_auto_columns": null,
            "grid_auto_flow": null,
            "grid_auto_rows": null,
            "grid_column": null,
            "grid_gap": null,
            "grid_row": null,
            "grid_template_areas": null,
            "grid_template_columns": null,
            "grid_template_rows": null,
            "height": null,
            "justify_content": null,
            "justify_items": null,
            "left": null,
            "margin": null,
            "max_height": null,
            "max_width": null,
            "min_height": null,
            "min_width": null,
            "object_fit": null,
            "object_position": null,
            "order": null,
            "overflow": null,
            "overflow_x": null,
            "overflow_y": null,
            "padding": null,
            "right": null,
            "top": null,
            "visibility": null,
            "width": null
          }
        },
        "22a656fbcab74f95aeeaef8415954ac8": {
          "model_module": "@jupyter-widgets/controls",
          "model_name": "DescriptionStyleModel",
          "model_module_version": "1.5.0",
          "state": {
            "_model_module": "@jupyter-widgets/controls",
            "_model_module_version": "1.5.0",
            "_model_name": "DescriptionStyleModel",
            "_view_count": null,
            "_view_module": "@jupyter-widgets/base",
            "_view_module_version": "1.2.0",
            "_view_name": "StyleView",
            "description_width": ""
          }
        },
        "abaeefb97a554b59a2a906ae9c4fd970": {
          "model_module": "@jupyter-widgets/controls",
          "model_name": "HBoxModel",
          "model_module_version": "1.5.0",
          "state": {
            "_dom_classes": [],
            "_model_module": "@jupyter-widgets/controls",
            "_model_module_version": "1.5.0",
            "_model_name": "HBoxModel",
            "_view_count": null,
            "_view_module": "@jupyter-widgets/controls",
            "_view_module_version": "1.5.0",
            "_view_name": "HBoxView",
            "box_style": "",
            "children": [
              "IPY_MODEL_19ec88c862ed4cb2a98ee57d4a94d360",
              "IPY_MODEL_30b8c470643c4b349815d3c0e890b44c",
              "IPY_MODEL_947d2bd8aad941f4acc0eb7d509c3e75"
            ],
            "layout": "IPY_MODEL_2a9d49c0ad694c249fdde69ba8f73d5f"
          }
        },
        "19ec88c862ed4cb2a98ee57d4a94d360": {
          "model_module": "@jupyter-widgets/controls",
          "model_name": "HTMLModel",
          "model_module_version": "1.5.0",
          "state": {
            "_dom_classes": [],
            "_model_module": "@jupyter-widgets/controls",
            "_model_module_version": "1.5.0",
            "_model_name": "HTMLModel",
            "_view_count": null,
            "_view_module": "@jupyter-widgets/controls",
            "_view_module_version": "1.5.0",
            "_view_name": "HTMLView",
            "description": "",
            "description_tooltip": null,
            "layout": "IPY_MODEL_e5f5c35bf7f94e2bbd43ce82838a87f5",
            "placeholder": "​",
            "style": "IPY_MODEL_818d01cf654b49ffa658832b1208fb55",
            "value": "Resolving data files: 100%"
          }
        },
        "30b8c470643c4b349815d3c0e890b44c": {
          "model_module": "@jupyter-widgets/controls",
          "model_name": "FloatProgressModel",
          "model_module_version": "1.5.0",
          "state": {
            "_dom_classes": [],
            "_model_module": "@jupyter-widgets/controls",
            "_model_module_version": "1.5.0",
            "_model_name": "FloatProgressModel",
            "_view_count": null,
            "_view_module": "@jupyter-widgets/controls",
            "_view_module_version": "1.5.0",
            "_view_name": "ProgressView",
            "bar_style": "success",
            "description": "",
            "description_tooltip": null,
            "layout": "IPY_MODEL_a9068aec9dda49fb823680878e93411b",
            "max": 132,
            "min": 0,
            "orientation": "horizontal",
            "style": "IPY_MODEL_3bf2ea13a9004e35a8f877160a2047c8",
            "value": 132
          }
        },
        "947d2bd8aad941f4acc0eb7d509c3e75": {
          "model_module": "@jupyter-widgets/controls",
          "model_name": "HTMLModel",
          "model_module_version": "1.5.0",
          "state": {
            "_dom_classes": [],
            "_model_module": "@jupyter-widgets/controls",
            "_model_module_version": "1.5.0",
            "_model_name": "HTMLModel",
            "_view_count": null,
            "_view_module": "@jupyter-widgets/controls",
            "_view_module_version": "1.5.0",
            "_view_name": "HTMLView",
            "description": "",
            "description_tooltip": null,
            "layout": "IPY_MODEL_4ccd272f3de6495c9d2e20ad74f4a2fb",
            "placeholder": "​",
            "style": "IPY_MODEL_90c5a03f51eb4b3bb8b6e75af8f25a72",
            "value": " 132/132 [00:00&lt;00:00, 10100.86it/s]"
          }
        },
        "2a9d49c0ad694c249fdde69ba8f73d5f": {
          "model_module": "@jupyter-widgets/base",
          "model_name": "LayoutModel",
          "model_module_version": "1.2.0",
          "state": {
            "_model_module": "@jupyter-widgets/base",
            "_model_module_version": "1.2.0",
            "_model_name": "LayoutModel",
            "_view_count": null,
            "_view_module": "@jupyter-widgets/base",
            "_view_module_version": "1.2.0",
            "_view_name": "LayoutView",
            "align_content": null,
            "align_items": null,
            "align_self": null,
            "border": null,
            "bottom": null,
            "display": null,
            "flex": null,
            "flex_flow": null,
            "grid_area": null,
            "grid_auto_columns": null,
            "grid_auto_flow": null,
            "grid_auto_rows": null,
            "grid_column": null,
            "grid_gap": null,
            "grid_row": null,
            "grid_template_areas": null,
            "grid_template_columns": null,
            "grid_template_rows": null,
            "height": null,
            "justify_content": null,
            "justify_items": null,
            "left": null,
            "margin": null,
            "max_height": null,
            "max_width": null,
            "min_height": null,
            "min_width": null,
            "object_fit": null,
            "object_position": null,
            "order": null,
            "overflow": null,
            "overflow_x": null,
            "overflow_y": null,
            "padding": null,
            "right": null,
            "top": null,
            "visibility": null,
            "width": null
          }
        },
        "e5f5c35bf7f94e2bbd43ce82838a87f5": {
          "model_module": "@jupyter-widgets/base",
          "model_name": "LayoutModel",
          "model_module_version": "1.2.0",
          "state": {
            "_model_module": "@jupyter-widgets/base",
            "_model_module_version": "1.2.0",
            "_model_name": "LayoutModel",
            "_view_count": null,
            "_view_module": "@jupyter-widgets/base",
            "_view_module_version": "1.2.0",
            "_view_name": "LayoutView",
            "align_content": null,
            "align_items": null,
            "align_self": null,
            "border": null,
            "bottom": null,
            "display": null,
            "flex": null,
            "flex_flow": null,
            "grid_area": null,
            "grid_auto_columns": null,
            "grid_auto_flow": null,
            "grid_auto_rows": null,
            "grid_column": null,
            "grid_gap": null,
            "grid_row": null,
            "grid_template_areas": null,
            "grid_template_columns": null,
            "grid_template_rows": null,
            "height": null,
            "justify_content": null,
            "justify_items": null,
            "left": null,
            "margin": null,
            "max_height": null,
            "max_width": null,
            "min_height": null,
            "min_width": null,
            "object_fit": null,
            "object_position": null,
            "order": null,
            "overflow": null,
            "overflow_x": null,
            "overflow_y": null,
            "padding": null,
            "right": null,
            "top": null,
            "visibility": null,
            "width": null
          }
        },
        "818d01cf654b49ffa658832b1208fb55": {
          "model_module": "@jupyter-widgets/controls",
          "model_name": "DescriptionStyleModel",
          "model_module_version": "1.5.0",
          "state": {
            "_model_module": "@jupyter-widgets/controls",
            "_model_module_version": "1.5.0",
            "_model_name": "DescriptionStyleModel",
            "_view_count": null,
            "_view_module": "@jupyter-widgets/base",
            "_view_module_version": "1.2.0",
            "_view_name": "StyleView",
            "description_width": ""
          }
        },
        "a9068aec9dda49fb823680878e93411b": {
          "model_module": "@jupyter-widgets/base",
          "model_name": "LayoutModel",
          "model_module_version": "1.2.0",
          "state": {
            "_model_module": "@jupyter-widgets/base",
            "_model_module_version": "1.2.0",
            "_model_name": "LayoutModel",
            "_view_count": null,
            "_view_module": "@jupyter-widgets/base",
            "_view_module_version": "1.2.0",
            "_view_name": "LayoutView",
            "align_content": null,
            "align_items": null,
            "align_self": null,
            "border": null,
            "bottom": null,
            "display": null,
            "flex": null,
            "flex_flow": null,
            "grid_area": null,
            "grid_auto_columns": null,
            "grid_auto_flow": null,
            "grid_auto_rows": null,
            "grid_column": null,
            "grid_gap": null,
            "grid_row": null,
            "grid_template_areas": null,
            "grid_template_columns": null,
            "grid_template_rows": null,
            "height": null,
            "justify_content": null,
            "justify_items": null,
            "left": null,
            "margin": null,
            "max_height": null,
            "max_width": null,
            "min_height": null,
            "min_width": null,
            "object_fit": null,
            "object_position": null,
            "order": null,
            "overflow": null,
            "overflow_x": null,
            "overflow_y": null,
            "padding": null,
            "right": null,
            "top": null,
            "visibility": null,
            "width": null
          }
        },
        "3bf2ea13a9004e35a8f877160a2047c8": {
          "model_module": "@jupyter-widgets/controls",
          "model_name": "ProgressStyleModel",
          "model_module_version": "1.5.0",
          "state": {
            "_model_module": "@jupyter-widgets/controls",
            "_model_module_version": "1.5.0",
            "_model_name": "ProgressStyleModel",
            "_view_count": null,
            "_view_module": "@jupyter-widgets/base",
            "_view_module_version": "1.2.0",
            "_view_name": "StyleView",
            "bar_color": null,
            "description_width": ""
          }
        },
        "4ccd272f3de6495c9d2e20ad74f4a2fb": {
          "model_module": "@jupyter-widgets/base",
          "model_name": "LayoutModel",
          "model_module_version": "1.2.0",
          "state": {
            "_model_module": "@jupyter-widgets/base",
            "_model_module_version": "1.2.0",
            "_model_name": "LayoutModel",
            "_view_count": null,
            "_view_module": "@jupyter-widgets/base",
            "_view_module_version": "1.2.0",
            "_view_name": "LayoutView",
            "align_content": null,
            "align_items": null,
            "align_self": null,
            "border": null,
            "bottom": null,
            "display": null,
            "flex": null,
            "flex_flow": null,
            "grid_area": null,
            "grid_auto_columns": null,
            "grid_auto_flow": null,
            "grid_auto_rows": null,
            "grid_column": null,
            "grid_gap": null,
            "grid_row": null,
            "grid_template_areas": null,
            "grid_template_columns": null,
            "grid_template_rows": null,
            "height": null,
            "justify_content": null,
            "justify_items": null,
            "left": null,
            "margin": null,
            "max_height": null,
            "max_width": null,
            "min_height": null,
            "min_width": null,
            "object_fit": null,
            "object_position": null,
            "order": null,
            "overflow": null,
            "overflow_x": null,
            "overflow_y": null,
            "padding": null,
            "right": null,
            "top": null,
            "visibility": null,
            "width": null
          }
        },
        "90c5a03f51eb4b3bb8b6e75af8f25a72": {
          "model_module": "@jupyter-widgets/controls",
          "model_name": "DescriptionStyleModel",
          "model_module_version": "1.5.0",
          "state": {
            "_model_module": "@jupyter-widgets/controls",
            "_model_module_version": "1.5.0",
            "_model_name": "DescriptionStyleModel",
            "_view_count": null,
            "_view_module": "@jupyter-widgets/base",
            "_view_module_version": "1.2.0",
            "_view_name": "StyleView",
            "description_width": ""
          }
        },
        "d968d0c151624cd6943b3c8e513a08ba": {
          "model_module": "@jupyter-widgets/controls",
          "model_name": "HBoxModel",
          "model_module_version": "1.5.0",
          "state": {
            "_dom_classes": [],
            "_model_module": "@jupyter-widgets/controls",
            "_model_module_version": "1.5.0",
            "_model_name": "HBoxModel",
            "_view_count": null,
            "_view_module": "@jupyter-widgets/controls",
            "_view_module_version": "1.5.0",
            "_view_name": "HBoxView",
            "box_style": "",
            "children": [
              "IPY_MODEL_2be994185dea40e796a1ff9021130eac",
              "IPY_MODEL_af2401659ed94d66ab47bb04a56bab5c",
              "IPY_MODEL_09ff1a18942043d09771b5e4e1b7365f"
            ],
            "layout": "IPY_MODEL_9cc694e8141544aeb5e0275ab5912f96"
          }
        },
        "2be994185dea40e796a1ff9021130eac": {
          "model_module": "@jupyter-widgets/controls",
          "model_name": "HTMLModel",
          "model_module_version": "1.5.0",
          "state": {
            "_dom_classes": [],
            "_model_module": "@jupyter-widgets/controls",
            "_model_module_version": "1.5.0",
            "_model_name": "HTMLModel",
            "_view_count": null,
            "_view_module": "@jupyter-widgets/controls",
            "_view_module_version": "1.5.0",
            "_view_name": "HTMLView",
            "description": "",
            "description_tooltip": null,
            "layout": "IPY_MODEL_46e4b25ba18b45e69049210be46283cf",
            "placeholder": "​",
            "style": "IPY_MODEL_e605d212128d484e9aac5552dd41cf7f",
            "value": "Map: 100%"
          }
        },
        "af2401659ed94d66ab47bb04a56bab5c": {
          "model_module": "@jupyter-widgets/controls",
          "model_name": "FloatProgressModel",
          "model_module_version": "1.5.0",
          "state": {
            "_dom_classes": [],
            "_model_module": "@jupyter-widgets/controls",
            "_model_module_version": "1.5.0",
            "_model_name": "FloatProgressModel",
            "_view_count": null,
            "_view_module": "@jupyter-widgets/controls",
            "_view_module_version": "1.5.0",
            "_view_name": "ProgressView",
            "bar_style": "success",
            "description": "",
            "description_tooltip": null,
            "layout": "IPY_MODEL_73d78331fc0443b194a24fa19c853c28",
            "max": 20000,
            "min": 0,
            "orientation": "horizontal",
            "style": "IPY_MODEL_e251090bddec40dab2d4a80ffcb7579e",
            "value": 20000
          }
        },
        "09ff1a18942043d09771b5e4e1b7365f": {
          "model_module": "@jupyter-widgets/controls",
          "model_name": "HTMLModel",
          "model_module_version": "1.5.0",
          "state": {
            "_dom_classes": [],
            "_model_module": "@jupyter-widgets/controls",
            "_model_module_version": "1.5.0",
            "_model_name": "HTMLModel",
            "_view_count": null,
            "_view_module": "@jupyter-widgets/controls",
            "_view_module_version": "1.5.0",
            "_view_name": "HTMLView",
            "description": "",
            "description_tooltip": null,
            "layout": "IPY_MODEL_2d3a751bc756498e80f35a6ad962d359",
            "placeholder": "​",
            "style": "IPY_MODEL_ad5b0dd2b5a24360ab9a49f046ca036c",
            "value": " 20000/20000 [00:16&lt;00:00, 1137.64 examples/s]"
          }
        },
        "9cc694e8141544aeb5e0275ab5912f96": {
          "model_module": "@jupyter-widgets/base",
          "model_name": "LayoutModel",
          "model_module_version": "1.2.0",
          "state": {
            "_model_module": "@jupyter-widgets/base",
            "_model_module_version": "1.2.0",
            "_model_name": "LayoutModel",
            "_view_count": null,
            "_view_module": "@jupyter-widgets/base",
            "_view_module_version": "1.2.0",
            "_view_name": "LayoutView",
            "align_content": null,
            "align_items": null,
            "align_self": null,
            "border": null,
            "bottom": null,
            "display": null,
            "flex": null,
            "flex_flow": null,
            "grid_area": null,
            "grid_auto_columns": null,
            "grid_auto_flow": null,
            "grid_auto_rows": null,
            "grid_column": null,
            "grid_gap": null,
            "grid_row": null,
            "grid_template_areas": null,
            "grid_template_columns": null,
            "grid_template_rows": null,
            "height": null,
            "justify_content": null,
            "justify_items": null,
            "left": null,
            "margin": null,
            "max_height": null,
            "max_width": null,
            "min_height": null,
            "min_width": null,
            "object_fit": null,
            "object_position": null,
            "order": null,
            "overflow": null,
            "overflow_x": null,
            "overflow_y": null,
            "padding": null,
            "right": null,
            "top": null,
            "visibility": null,
            "width": null
          }
        },
        "46e4b25ba18b45e69049210be46283cf": {
          "model_module": "@jupyter-widgets/base",
          "model_name": "LayoutModel",
          "model_module_version": "1.2.0",
          "state": {
            "_model_module": "@jupyter-widgets/base",
            "_model_module_version": "1.2.0",
            "_model_name": "LayoutModel",
            "_view_count": null,
            "_view_module": "@jupyter-widgets/base",
            "_view_module_version": "1.2.0",
            "_view_name": "LayoutView",
            "align_content": null,
            "align_items": null,
            "align_self": null,
            "border": null,
            "bottom": null,
            "display": null,
            "flex": null,
            "flex_flow": null,
            "grid_area": null,
            "grid_auto_columns": null,
            "grid_auto_flow": null,
            "grid_auto_rows": null,
            "grid_column": null,
            "grid_gap": null,
            "grid_row": null,
            "grid_template_areas": null,
            "grid_template_columns": null,
            "grid_template_rows": null,
            "height": null,
            "justify_content": null,
            "justify_items": null,
            "left": null,
            "margin": null,
            "max_height": null,
            "max_width": null,
            "min_height": null,
            "min_width": null,
            "object_fit": null,
            "object_position": null,
            "order": null,
            "overflow": null,
            "overflow_x": null,
            "overflow_y": null,
            "padding": null,
            "right": null,
            "top": null,
            "visibility": null,
            "width": null
          }
        },
        "e605d212128d484e9aac5552dd41cf7f": {
          "model_module": "@jupyter-widgets/controls",
          "model_name": "DescriptionStyleModel",
          "model_module_version": "1.5.0",
          "state": {
            "_model_module": "@jupyter-widgets/controls",
            "_model_module_version": "1.5.0",
            "_model_name": "DescriptionStyleModel",
            "_view_count": null,
            "_view_module": "@jupyter-widgets/base",
            "_view_module_version": "1.2.0",
            "_view_name": "StyleView",
            "description_width": ""
          }
        },
        "73d78331fc0443b194a24fa19c853c28": {
          "model_module": "@jupyter-widgets/base",
          "model_name": "LayoutModel",
          "model_module_version": "1.2.0",
          "state": {
            "_model_module": "@jupyter-widgets/base",
            "_model_module_version": "1.2.0",
            "_model_name": "LayoutModel",
            "_view_count": null,
            "_view_module": "@jupyter-widgets/base",
            "_view_module_version": "1.2.0",
            "_view_name": "LayoutView",
            "align_content": null,
            "align_items": null,
            "align_self": null,
            "border": null,
            "bottom": null,
            "display": null,
            "flex": null,
            "flex_flow": null,
            "grid_area": null,
            "grid_auto_columns": null,
            "grid_auto_flow": null,
            "grid_auto_rows": null,
            "grid_column": null,
            "grid_gap": null,
            "grid_row": null,
            "grid_template_areas": null,
            "grid_template_columns": null,
            "grid_template_rows": null,
            "height": null,
            "justify_content": null,
            "justify_items": null,
            "left": null,
            "margin": null,
            "max_height": null,
            "max_width": null,
            "min_height": null,
            "min_width": null,
            "object_fit": null,
            "object_position": null,
            "order": null,
            "overflow": null,
            "overflow_x": null,
            "overflow_y": null,
            "padding": null,
            "right": null,
            "top": null,
            "visibility": null,
            "width": null
          }
        },
        "e251090bddec40dab2d4a80ffcb7579e": {
          "model_module": "@jupyter-widgets/controls",
          "model_name": "ProgressStyleModel",
          "model_module_version": "1.5.0",
          "state": {
            "_model_module": "@jupyter-widgets/controls",
            "_model_module_version": "1.5.0",
            "_model_name": "ProgressStyleModel",
            "_view_count": null,
            "_view_module": "@jupyter-widgets/base",
            "_view_module_version": "1.2.0",
            "_view_name": "StyleView",
            "bar_color": null,
            "description_width": ""
          }
        },
        "2d3a751bc756498e80f35a6ad962d359": {
          "model_module": "@jupyter-widgets/base",
          "model_name": "LayoutModel",
          "model_module_version": "1.2.0",
          "state": {
            "_model_module": "@jupyter-widgets/base",
            "_model_module_version": "1.2.0",
            "_model_name": "LayoutModel",
            "_view_count": null,
            "_view_module": "@jupyter-widgets/base",
            "_view_module_version": "1.2.0",
            "_view_name": "LayoutView",
            "align_content": null,
            "align_items": null,
            "align_self": null,
            "border": null,
            "bottom": null,
            "display": null,
            "flex": null,
            "flex_flow": null,
            "grid_area": null,
            "grid_auto_columns": null,
            "grid_auto_flow": null,
            "grid_auto_rows": null,
            "grid_column": null,
            "grid_gap": null,
            "grid_row": null,
            "grid_template_areas": null,
            "grid_template_columns": null,
            "grid_template_rows": null,
            "height": null,
            "justify_content": null,
            "justify_items": null,
            "left": null,
            "margin": null,
            "max_height": null,
            "max_width": null,
            "min_height": null,
            "min_width": null,
            "object_fit": null,
            "object_position": null,
            "order": null,
            "overflow": null,
            "overflow_x": null,
            "overflow_y": null,
            "padding": null,
            "right": null,
            "top": null,
            "visibility": null,
            "width": null
          }
        },
        "ad5b0dd2b5a24360ab9a49f046ca036c": {
          "model_module": "@jupyter-widgets/controls",
          "model_name": "DescriptionStyleModel",
          "model_module_version": "1.5.0",
          "state": {
            "_model_module": "@jupyter-widgets/controls",
            "_model_module_version": "1.5.0",
            "_model_name": "DescriptionStyleModel",
            "_view_count": null,
            "_view_module": "@jupyter-widgets/base",
            "_view_module_version": "1.2.0",
            "_view_name": "StyleView",
            "description_width": ""
          }
        },
        "10f5afdfba49450997981268885d8292": {
          "model_module": "@jupyter-widgets/controls",
          "model_name": "HBoxModel",
          "model_module_version": "1.5.0",
          "state": {
            "_dom_classes": [],
            "_model_module": "@jupyter-widgets/controls",
            "_model_module_version": "1.5.0",
            "_model_name": "HBoxModel",
            "_view_count": null,
            "_view_module": "@jupyter-widgets/controls",
            "_view_module_version": "1.5.0",
            "_view_name": "HBoxView",
            "box_style": "",
            "children": [
              "IPY_MODEL_c2cfd30e64e8452bab40d7ad4e85984b",
              "IPY_MODEL_c6b50132c89844ceb294e6e495736563",
              "IPY_MODEL_c34aff4ae06d46768603b13787a91962"
            ],
            "layout": "IPY_MODEL_7d6750c25e424e6e893ee2a94dabe6fb"
          }
        },
        "c2cfd30e64e8452bab40d7ad4e85984b": {
          "model_module": "@jupyter-widgets/controls",
          "model_name": "HTMLModel",
          "model_module_version": "1.5.0",
          "state": {
            "_dom_classes": [],
            "_model_module": "@jupyter-widgets/controls",
            "_model_module_version": "1.5.0",
            "_model_name": "HTMLModel",
            "_view_count": null,
            "_view_module": "@jupyter-widgets/controls",
            "_view_module_version": "1.5.0",
            "_view_name": "HTMLView",
            "description": "",
            "description_tooltip": null,
            "layout": "IPY_MODEL_a2105bf060344340b51f690ca722b95c",
            "placeholder": "​",
            "style": "IPY_MODEL_826bacfb93ac46cea503fa15c95cf71e",
            "value": "Map: 100%"
          }
        },
        "c6b50132c89844ceb294e6e495736563": {
          "model_module": "@jupyter-widgets/controls",
          "model_name": "FloatProgressModel",
          "model_module_version": "1.5.0",
          "state": {
            "_dom_classes": [],
            "_model_module": "@jupyter-widgets/controls",
            "_model_module_version": "1.5.0",
            "_model_name": "FloatProgressModel",
            "_view_count": null,
            "_view_module": "@jupyter-widgets/controls",
            "_view_module_version": "1.5.0",
            "_view_name": "ProgressView",
            "bar_style": "success",
            "description": "",
            "description_tooltip": null,
            "layout": "IPY_MODEL_76d73ab0984843a68373ad7206cc5fd7",
            "max": 2000,
            "min": 0,
            "orientation": "horizontal",
            "style": "IPY_MODEL_6ebd59422e9f486ebe242b229470fae9",
            "value": 2000
          }
        },
        "c34aff4ae06d46768603b13787a91962": {
          "model_module": "@jupyter-widgets/controls",
          "model_name": "HTMLModel",
          "model_module_version": "1.5.0",
          "state": {
            "_dom_classes": [],
            "_model_module": "@jupyter-widgets/controls",
            "_model_module_version": "1.5.0",
            "_model_name": "HTMLModel",
            "_view_count": null,
            "_view_module": "@jupyter-widgets/controls",
            "_view_module_version": "1.5.0",
            "_view_name": "HTMLView",
            "description": "",
            "description_tooltip": null,
            "layout": "IPY_MODEL_d824b87fd79448c28b27a1e5c135a125",
            "placeholder": "​",
            "style": "IPY_MODEL_37d5fe1824c5421da57687f17d2713bb",
            "value": " 2000/2000 [00:01&lt;00:00, 1808.03 examples/s]"
          }
        },
        "7d6750c25e424e6e893ee2a94dabe6fb": {
          "model_module": "@jupyter-widgets/base",
          "model_name": "LayoutModel",
          "model_module_version": "1.2.0",
          "state": {
            "_model_module": "@jupyter-widgets/base",
            "_model_module_version": "1.2.0",
            "_model_name": "LayoutModel",
            "_view_count": null,
            "_view_module": "@jupyter-widgets/base",
            "_view_module_version": "1.2.0",
            "_view_name": "LayoutView",
            "align_content": null,
            "align_items": null,
            "align_self": null,
            "border": null,
            "bottom": null,
            "display": null,
            "flex": null,
            "flex_flow": null,
            "grid_area": null,
            "grid_auto_columns": null,
            "grid_auto_flow": null,
            "grid_auto_rows": null,
            "grid_column": null,
            "grid_gap": null,
            "grid_row": null,
            "grid_template_areas": null,
            "grid_template_columns": null,
            "grid_template_rows": null,
            "height": null,
            "justify_content": null,
            "justify_items": null,
            "left": null,
            "margin": null,
            "max_height": null,
            "max_width": null,
            "min_height": null,
            "min_width": null,
            "object_fit": null,
            "object_position": null,
            "order": null,
            "overflow": null,
            "overflow_x": null,
            "overflow_y": null,
            "padding": null,
            "right": null,
            "top": null,
            "visibility": null,
            "width": null
          }
        },
        "a2105bf060344340b51f690ca722b95c": {
          "model_module": "@jupyter-widgets/base",
          "model_name": "LayoutModel",
          "model_module_version": "1.2.0",
          "state": {
            "_model_module": "@jupyter-widgets/base",
            "_model_module_version": "1.2.0",
            "_model_name": "LayoutModel",
            "_view_count": null,
            "_view_module": "@jupyter-widgets/base",
            "_view_module_version": "1.2.0",
            "_view_name": "LayoutView",
            "align_content": null,
            "align_items": null,
            "align_self": null,
            "border": null,
            "bottom": null,
            "display": null,
            "flex": null,
            "flex_flow": null,
            "grid_area": null,
            "grid_auto_columns": null,
            "grid_auto_flow": null,
            "grid_auto_rows": null,
            "grid_column": null,
            "grid_gap": null,
            "grid_row": null,
            "grid_template_areas": null,
            "grid_template_columns": null,
            "grid_template_rows": null,
            "height": null,
            "justify_content": null,
            "justify_items": null,
            "left": null,
            "margin": null,
            "max_height": null,
            "max_width": null,
            "min_height": null,
            "min_width": null,
            "object_fit": null,
            "object_position": null,
            "order": null,
            "overflow": null,
            "overflow_x": null,
            "overflow_y": null,
            "padding": null,
            "right": null,
            "top": null,
            "visibility": null,
            "width": null
          }
        },
        "826bacfb93ac46cea503fa15c95cf71e": {
          "model_module": "@jupyter-widgets/controls",
          "model_name": "DescriptionStyleModel",
          "model_module_version": "1.5.0",
          "state": {
            "_model_module": "@jupyter-widgets/controls",
            "_model_module_version": "1.5.0",
            "_model_name": "DescriptionStyleModel",
            "_view_count": null,
            "_view_module": "@jupyter-widgets/base",
            "_view_module_version": "1.2.0",
            "_view_name": "StyleView",
            "description_width": ""
          }
        },
        "76d73ab0984843a68373ad7206cc5fd7": {
          "model_module": "@jupyter-widgets/base",
          "model_name": "LayoutModel",
          "model_module_version": "1.2.0",
          "state": {
            "_model_module": "@jupyter-widgets/base",
            "_model_module_version": "1.2.0",
            "_model_name": "LayoutModel",
            "_view_count": null,
            "_view_module": "@jupyter-widgets/base",
            "_view_module_version": "1.2.0",
            "_view_name": "LayoutView",
            "align_content": null,
            "align_items": null,
            "align_self": null,
            "border": null,
            "bottom": null,
            "display": null,
            "flex": null,
            "flex_flow": null,
            "grid_area": null,
            "grid_auto_columns": null,
            "grid_auto_flow": null,
            "grid_auto_rows": null,
            "grid_column": null,
            "grid_gap": null,
            "grid_row": null,
            "grid_template_areas": null,
            "grid_template_columns": null,
            "grid_template_rows": null,
            "height": null,
            "justify_content": null,
            "justify_items": null,
            "left": null,
            "margin": null,
            "max_height": null,
            "max_width": null,
            "min_height": null,
            "min_width": null,
            "object_fit": null,
            "object_position": null,
            "order": null,
            "overflow": null,
            "overflow_x": null,
            "overflow_y": null,
            "padding": null,
            "right": null,
            "top": null,
            "visibility": null,
            "width": null
          }
        },
        "6ebd59422e9f486ebe242b229470fae9": {
          "model_module": "@jupyter-widgets/controls",
          "model_name": "ProgressStyleModel",
          "model_module_version": "1.5.0",
          "state": {
            "_model_module": "@jupyter-widgets/controls",
            "_model_module_version": "1.5.0",
            "_model_name": "ProgressStyleModel",
            "_view_count": null,
            "_view_module": "@jupyter-widgets/base",
            "_view_module_version": "1.2.0",
            "_view_name": "StyleView",
            "bar_color": null,
            "description_width": ""
          }
        },
        "d824b87fd79448c28b27a1e5c135a125": {
          "model_module": "@jupyter-widgets/base",
          "model_name": "LayoutModel",
          "model_module_version": "1.2.0",
          "state": {
            "_model_module": "@jupyter-widgets/base",
            "_model_module_version": "1.2.0",
            "_model_name": "LayoutModel",
            "_view_count": null,
            "_view_module": "@jupyter-widgets/base",
            "_view_module_version": "1.2.0",
            "_view_name": "LayoutView",
            "align_content": null,
            "align_items": null,
            "align_self": null,
            "border": null,
            "bottom": null,
            "display": null,
            "flex": null,
            "flex_flow": null,
            "grid_area": null,
            "grid_auto_columns": null,
            "grid_auto_flow": null,
            "grid_auto_rows": null,
            "grid_column": null,
            "grid_gap": null,
            "grid_row": null,
            "grid_template_areas": null,
            "grid_template_columns": null,
            "grid_template_rows": null,
            "height": null,
            "justify_content": null,
            "justify_items": null,
            "left": null,
            "margin": null,
            "max_height": null,
            "max_width": null,
            "min_height": null,
            "min_width": null,
            "object_fit": null,
            "object_position": null,
            "order": null,
            "overflow": null,
            "overflow_x": null,
            "overflow_y": null,
            "padding": null,
            "right": null,
            "top": null,
            "visibility": null,
            "width": null
          }
        },
        "37d5fe1824c5421da57687f17d2713bb": {
          "model_module": "@jupyter-widgets/controls",
          "model_name": "DescriptionStyleModel",
          "model_module_version": "1.5.0",
          "state": {
            "_model_module": "@jupyter-widgets/controls",
            "_model_module_version": "1.5.0",
            "_model_name": "DescriptionStyleModel",
            "_view_count": null,
            "_view_module": "@jupyter-widgets/base",
            "_view_module_version": "1.2.0",
            "_view_name": "StyleView",
            "description_width": ""
          }
        }
      }
    }
  },
  "nbformat": 4,
  "nbformat_minor": 5
}